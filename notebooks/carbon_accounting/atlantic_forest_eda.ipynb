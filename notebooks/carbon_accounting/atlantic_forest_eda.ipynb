{
 "cells": [
  {
   "cell_type": "markdown",
   "metadata": {},
   "source": [
    "# About the Atlantic Forest\n",
    "\n",
    "The Atlantic Forest (Mata Atlântica; Bosque Atlántico) is the second largest rainforest in South America. It is located in the Atlantic coast of Brazil (92 percent of its total area), northern Argentina (2 percent of its total area), and southern Paraguay (6 percent of its total area). The forest is the third most extensive biome in Brazil after the Amazon and the Cerrado and is considered one of the most threatened forests in the world, with only about 12 percent of its original area remaining (de Lima Palidon and dos Santos Guapyassu, 2005).\n",
    "\n",
    "The Atlantic Forest is highly fragmented and is pressured by urbanization, deforestation, and agricultural plantations (Singh and Huang, 2022). The original area of the forest covered 15 percent of the land area of Brazil. Now, it is estimated that only about 8.5 percent of its area surpasses 100 hectares in size (Burak et al., 2023). The Atlantic Forest’s ecoregion composes some of Brazil’s largest cities, including Rio de Janeiro and São Paulo. This region produces an estimated 70 percent of the country’s gross domestic product (World Wildlife Fund n.d). About 35 percent of the remaining area is a protected area with 14 national parks, 14 biological reserves, and 6 ecological stations (de Lima Palidon and dos Santos Guapyassu, 2005).\n",
    "\n",
    "The area has high levels of biodiversity. An estimated 2,200 species of birds, mammals, reptiles and amphibians can be found in the Atlantic Forest (The Nature Conservancy n.d.). About 40 percent of its vascular plants and about 60 percent of its vertebrate species are endemic species that cannot be found anywhere else in the world. In Brazil, there are an estimated 20,000 species of plants in the Atlantic Forest (about 8 percent of the Earth’s total)(The Nature Conservancy n.d)."
   ]
  },
  {
   "cell_type": "code",
   "execution_count": 10,
   "metadata": {},
   "outputs": [
    {
     "data": {
      "text/html": [
       "\n",
       "            <style>\n",
       "                .geemap-dark {\n",
       "                    --jp-widgets-color: white;\n",
       "                    --jp-widgets-label-color: white;\n",
       "                    --jp-ui-font-color1: white;\n",
       "                    --jp-layout-color2: #454545;\n",
       "                    background-color: #383838;\n",
       "                }\n",
       "\n",
       "                .geemap-dark .jupyter-button {\n",
       "                    --jp-layout-color3: #383838;\n",
       "                }\n",
       "\n",
       "                .geemap-colab {\n",
       "                    background-color: var(--colab-primary-surface-color, white);\n",
       "                }\n",
       "\n",
       "                .geemap-colab .jupyter-button {\n",
       "                    --jp-layout-color3: var(--colab-primary-surface-color, white);\n",
       "                }\n",
       "            </style>\n",
       "            "
      ],
      "text/plain": [
       "<IPython.core.display.HTML object>"
      ]
     },
     "metadata": {},
     "output_type": "display_data"
    }
   ],
   "source": [
    "import io\n",
    "import os\n",
    "import zipfile\n",
    "from pathlib import Path\n",
    "\n",
    "import ee\n",
    "import geemap\n",
    "import geopandas as gpd\n",
    "import requests\n",
    "\n",
    "from utils.mapping import (\n",
    "    create_geemap,\n",
    "    forest_type_dict,\n",
    "    matplotlib_ramp_to_hexcodes,\n",
    ")"
   ]
  },
  {
   "cell_type": "code",
   "execution_count": 2,
   "metadata": {},
   "outputs": [
    {
     "data": {
      "text/html": [
       "\n",
       "            <style>\n",
       "                .geemap-dark {\n",
       "                    --jp-widgets-color: white;\n",
       "                    --jp-widgets-label-color: white;\n",
       "                    --jp-ui-font-color1: white;\n",
       "                    --jp-layout-color2: #454545;\n",
       "                    background-color: #383838;\n",
       "                }\n",
       "\n",
       "                .geemap-dark .jupyter-button {\n",
       "                    --jp-layout-color3: #383838;\n",
       "                }\n",
       "\n",
       "                .geemap-colab {\n",
       "                    background-color: var(--colab-primary-surface-color, white);\n",
       "                }\n",
       "\n",
       "                .geemap-colab .jupyter-button {\n",
       "                    --jp-layout-color3: var(--colab-primary-surface-color, white);\n",
       "                }\n",
       "            </style>\n",
       "            "
      ],
      "text/plain": [
       "<IPython.core.display.HTML object>"
      ]
     },
     "metadata": {},
     "output_type": "display_data"
    }
   ],
   "source": [
    "ee.Authenticate()\n",
    "ee.Initialize()"
   ]
  },
  {
   "cell_type": "markdown",
   "metadata": {},
   "source": [
    "# Boundaries\n",
    "\n",
    "The boundary for the Atlantic Forest was sourced from the Spatial Ecology and Conservation Lab (LEEC) using the consensual limit corresponding to the intersection of the limits reviewed by the study.\n",
    "\n",
    "Citation:\n",
    "Muylaert, R.L.; Vancine, M.H.; Bernardo, R.; Oshima, J.E.F.; Sobral-Souza, T.; Tonetti, V.R.; Niebuhr, B.B.; Ribeiro, M.C. 2018. Uma nota sobre os limites territoriais da Mata Atlântica. Oecologia Australis 22: 3. DOI: 10.4257/oeco.2018.2203.09"
   ]
  },
  {
   "cell_type": "code",
   "execution_count": 3,
   "metadata": {},
   "outputs": [
    {
     "data": {
      "text/html": [
       "\n",
       "            <style>\n",
       "                .geemap-dark {\n",
       "                    --jp-widgets-color: white;\n",
       "                    --jp-widgets-label-color: white;\n",
       "                    --jp-ui-font-color1: white;\n",
       "                    --jp-layout-color2: #454545;\n",
       "                    background-color: #383838;\n",
       "                }\n",
       "\n",
       "                .geemap-dark .jupyter-button {\n",
       "                    --jp-layout-color3: #383838;\n",
       "                }\n",
       "\n",
       "                .geemap-colab {\n",
       "                    background-color: var(--colab-primary-surface-color, white);\n",
       "                }\n",
       "\n",
       "                .geemap-colab .jupyter-button {\n",
       "                    --jp-layout-color3: var(--colab-primary-surface-color, white);\n",
       "                }\n",
       "            </style>\n",
       "            "
      ],
      "text/plain": [
       "<IPython.core.display.HTML object>"
      ]
     },
     "metadata": {},
     "output_type": "display_data"
    }
   ],
   "source": [
    "boundary_url = url = (\n",
    "    \"https://github.com/LEEClab/ATLANTIC-limits/raw/master/data/limites_integradores_wgs84_v1_2_0.zip\"\n",
    ")\n",
    "geometry_folder = Path(\"../../geometries\")\n",
    "boundary_name = \"ma_limite_consensual_muylaert_et_al_2018_wgs84\"\n",
    "boundary_folder = geometry_folder / \"limites_integradores_wgs84_v1_2_0/\""
   ]
  },
  {
   "cell_type": "code",
   "execution_count": null,
   "metadata": {},
   "outputs": [],
   "source": [
    "response = requests.get(url)\n",
    "if response.status_code == 200:\n",
    "    with zipfile.ZipFile(io.BytesIO(response.content)) as z:\n",
    "        z.extractall(geometry_folder)\n",
    "    print(f\"Files are saved in {geometry_folder}\")\n",
    "else:\n",
    "    print(\"Status code:\", response.status_code)"
   ]
  },
  {
   "cell_type": "code",
   "execution_count": 12,
   "metadata": {},
   "outputs": [
    {
     "data": {
      "text/html": [
       "\n",
       "            <style>\n",
       "                .geemap-dark {\n",
       "                    --jp-widgets-color: white;\n",
       "                    --jp-widgets-label-color: white;\n",
       "                    --jp-ui-font-color1: white;\n",
       "                    --jp-layout-color2: #454545;\n",
       "                    background-color: #383838;\n",
       "                }\n",
       "\n",
       "                .geemap-dark .jupyter-button {\n",
       "                    --jp-layout-color3: #383838;\n",
       "                }\n",
       "\n",
       "                .geemap-colab {\n",
       "                    background-color: var(--colab-primary-surface-color, white);\n",
       "                }\n",
       "\n",
       "                .geemap-colab .jupyter-button {\n",
       "                    --jp-layout-color3: var(--colab-primary-surface-color, white);\n",
       "                }\n",
       "            </style>\n",
       "            "
      ],
      "text/plain": [
       "<IPython.core.display.HTML object>"
      ]
     },
     "metadata": {},
     "output_type": "display_data"
    }
   ],
   "source": [
    "# Keep only consensus boundary\n",
    "\n",
    "for file_name in os.listdir(boundary_folder):\n",
    "    # Check if the file name does not contain the required substring\n",
    "    if \"ma_limite_consensual_muylaert_et_al_2018_wgs84\" not in file_name:\n",
    "        # Delete the file\n",
    "        file_path = os.path.join(boundary_folder, file_name)\n",
    "        os.remove(file_path)"
   ]
  },
  {
   "cell_type": "code",
   "execution_count": 4,
   "metadata": {},
   "outputs": [
    {
     "data": {
      "text/html": [
       "\n",
       "            <style>\n",
       "                .geemap-dark {\n",
       "                    --jp-widgets-color: white;\n",
       "                    --jp-widgets-label-color: white;\n",
       "                    --jp-ui-font-color1: white;\n",
       "                    --jp-layout-color2: #454545;\n",
       "                    background-color: #383838;\n",
       "                }\n",
       "\n",
       "                .geemap-dark .jupyter-button {\n",
       "                    --jp-layout-color3: #383838;\n",
       "                }\n",
       "\n",
       "                .geemap-colab {\n",
       "                    background-color: var(--colab-primary-surface-color, white);\n",
       "                }\n",
       "\n",
       "                .geemap-colab .jupyter-button {\n",
       "                    --jp-layout-color3: var(--colab-primary-surface-color, white);\n",
       "                }\n",
       "            </style>\n",
       "            "
      ],
      "text/plain": [
       "<IPython.core.display.HTML object>"
      ]
     },
     "metadata": {},
     "output_type": "display_data"
    }
   ],
   "source": [
    "af_gdf = gpd.read_file(\n",
    "    f\"{boundary_folder}/ma_limite_consensual_muylaert_et_al_2018_wgs84.shp\"\n",
    ")\n",
    "af_fc = ee.FeatureCollection(af_gdf.__geo_interface__)"
   ]
  },
  {
   "cell_type": "code",
   "execution_count": null,
   "metadata": {},
   "outputs": [
    {
     "data": {
      "text/html": [
       "\n",
       "            <style>\n",
       "                .geemap-dark {\n",
       "                    --jp-widgets-color: white;\n",
       "                    --jp-widgets-label-color: white;\n",
       "                    --jp-ui-font-color1: white;\n",
       "                    --jp-layout-color2: #454545;\n",
       "                    background-color: #383838;\n",
       "                }\n",
       "\n",
       "                .geemap-dark .jupyter-button {\n",
       "                    --jp-layout-color3: #383838;\n",
       "                }\n",
       "\n",
       "                .geemap-colab {\n",
       "                    background-color: var(--colab-primary-surface-color, white);\n",
       "                }\n",
       "\n",
       "                .geemap-colab .jupyter-button {\n",
       "                    --jp-layout-color3: var(--colab-primary-surface-color, white);\n",
       "                }\n",
       "            </style>\n",
       "            "
      ],
      "text/plain": [
       "<IPython.core.display.HTML object>"
      ]
     },
     "metadata": {},
     "output_type": "display_data"
    }
   ],
   "source": [
    "min_reducer = ee.Reducer.min()\n",
    "max_reducer = ee.Reducer.max()\n",
    "combined_reducer = min_reducer.combine(reducer2=max_reducer, sharedInputs=True)"
   ]
  },
  {
   "cell_type": "markdown",
   "metadata": {},
   "source": [
    "# Forest Type\n",
    "\n",
    "The Copernicus Land Cover layer categorizes the Atlantic Forest as an evergreen broad leaf forest. The literature classifies different areas of the forest into coastal, deciduous and semideciduous inland forests, low montane forests, as well as ecosystems including mangrove swamps, and high-altitude swamps (de Lima Palidon and dos Santos Guapyassu, 2005). The coastal forest has been the most disturbed, with only about 3 percent of its original area remaining. "
   ]
  },
  {
   "cell_type": "code",
   "execution_count": 7,
   "metadata": {},
   "outputs": [
    {
     "data": {
      "text/html": [
       "\n",
       "            <style>\n",
       "                .geemap-dark {\n",
       "                    --jp-widgets-color: white;\n",
       "                    --jp-widgets-label-color: white;\n",
       "                    --jp-ui-font-color1: white;\n",
       "                    --jp-layout-color2: #454545;\n",
       "                    background-color: #383838;\n",
       "                }\n",
       "\n",
       "                .geemap-dark .jupyter-button {\n",
       "                    --jp-layout-color3: #383838;\n",
       "                }\n",
       "\n",
       "                .geemap-colab {\n",
       "                    background-color: var(--colab-primary-surface-color, white);\n",
       "                }\n",
       "\n",
       "                .geemap-colab .jupyter-button {\n",
       "                    --jp-layout-color3: var(--colab-primary-surface-color, white);\n",
       "                }\n",
       "            </style>\n",
       "            "
      ],
      "text/plain": [
       "<IPython.core.display.HTML object>"
      ]
     },
     "metadata": {},
     "output_type": "display_data"
    },
    {
     "data": {
      "text/html": [
       "<div><style>:root {\n",
       "  --font-color-primary: var(--jp-content-font-color0, rgba(0, 0, 0, 1));\n",
       "  --font-color-secondary: var(--jp-content-font-color2, rgba(0, 0, 0, 0.6));\n",
       "  --font-color-accent: rgba(123, 31, 162, 1);\n",
       "  --border-color: var(--jp-border-color2, #e0e0e0);\n",
       "  --background-color: var(--jp-layout-color0, white);\n",
       "  --background-color-row-even: var(--jp-layout-color1, white);\n",
       "  --background-color-row-odd: var(--jp-layout-color2, #eeeeee);\n",
       "}\n",
       "\n",
       "html[theme=\"dark\"],\n",
       "body[data-theme=\"dark\"],\n",
       "body.vscode-dark {\n",
       "  --font-color-primary: rgba(255, 255, 255, 1);\n",
       "  --font-color-secondary: rgba(255, 255, 255, 0.6);\n",
       "  --font-color-accent: rgb(173, 132, 190);\n",
       "  --border-color: #2e2e2e;\n",
       "  --background-color: #111111;\n",
       "  --background-color-row-even: #111111;\n",
       "  --background-color-row-odd: #313131;\n",
       "}\n",
       "\n",
       ".ee {\n",
       "  padding: 1em;\n",
       "  line-height: 1.5em;\n",
       "  min-width: 300px;\n",
       "  max-width: 1200px;\n",
       "  overflow-y: scroll;\n",
       "  max-height: 600px;\n",
       "  border: 1px solid var(--border-color);\n",
       "  font-family: monospace;\n",
       "}\n",
       "\n",
       ".ee li {\n",
       "  list-style-type: none;\n",
       "}\n",
       "\n",
       ".ee ul {\n",
       "  padding-left: 1.5em !important;\n",
       "  margin: 0;\n",
       "}\n",
       "\n",
       ".ee > ul {\n",
       "  padding-left: 0 !important;\n",
       "}\n",
       "\n",
       ".ee-open,\n",
       ".ee-shut {\n",
       "  color: var(--font-color-secondary);\n",
       "  cursor: pointer;\n",
       "  margin: 0;\n",
       "}\n",
       "\n",
       ".ee-open:hover,\n",
       ".ee-shut:hover {\n",
       "  color: var(--font-color-primary);\n",
       "}\n",
       "\n",
       ".ee-k {\n",
       "  color: var(--font-color-accent);\n",
       "  margin-right: 6px;\n",
       "}\n",
       "\n",
       ".ee-v {\n",
       "  color: var(--font-color-primary);\n",
       "}\n",
       "\n",
       ".ee-toggle {\n",
       "  display: none;\n",
       "}\n",
       "\n",
       ".ee-shut + ul {\n",
       "  display: none;\n",
       "}\n",
       "\n",
       ".ee-open + ul {\n",
       "  display: block;\n",
       "}\n",
       "\n",
       ".ee-shut::before {\n",
       "  display: inline-block;\n",
       "  content: \"▼\";\n",
       "  margin-right: 6px;\n",
       "  transform: rotate(-90deg);\n",
       "  transition: transform 0.2s;\n",
       "}\n",
       "\n",
       ".ee-open::before {\n",
       "  transform: rotate(0deg);\n",
       "  display: inline-block;\n",
       "  content: \"▼\";\n",
       "  margin-right: 6px;\n",
       "  transition: transform 0.2s;\n",
       "}\n",
       "</style><div class='ee'><ul><li><label class='ee-shut'>Image COPERNICUS/Landcover/100m/Proba-V-C3/Global/2019 (1 band)<input type='checkbox' class='ee-toggle'></label><ul><li><span class='ee-k'>type:</span><span class='ee-v'>Image</span></li><li><span class='ee-k'>id:</span><span class='ee-v'>COPERNICUS/Landcover/100m/Proba-V-C3/Global/2019</span></li><li><span class='ee-k'>version:</span><span class='ee-v'>1685078284447716</span></li><li><label class='ee-shut'>bands: List (1 element)<input type='checkbox' class='ee-toggle'></label><ul><li><label class='ee-shut'>0: \"forest_type\", unsigned int8, EPSG:3857, 400750x240450 px<input type='checkbox' class='ee-toggle'></label><ul><li><span class='ee-k'>id:</span><span class='ee-v'>forest_type</span></li><li><span class='ee-k'>crs:</span><span class='ee-v'>EPSG:3857</span></li><li><label class='ee-shut'>crs_transform: [100, 0, -20037550, 0, -100, 15538800]<input type='checkbox' class='ee-toggle'></label><ul><li><span class='ee-k'>0:</span><span class='ee-v'>100</span></li><li><span class='ee-k'>1:</span><span class='ee-v'>0</span></li><li><span class='ee-k'>2:</span><span class='ee-v'>-20037550</span></li><li><span class='ee-k'>3:</span><span class='ee-v'>0</span></li><li><span class='ee-k'>4:</span><span class='ee-v'>-100</span></li><li><span class='ee-k'>5:</span><span class='ee-v'>15538800</span></li></ul></li><li><label class='ee-shut'>data_type: unsigned int8<input type='checkbox' class='ee-toggle'></label><ul><li><span class='ee-k'>type:</span><span class='ee-v'>PixelType</span></li><li><span class='ee-k'>max:</span><span class='ee-v'>255</span></li><li><span class='ee-k'>min:</span><span class='ee-v'>0</span></li><li><span class='ee-k'>precision:</span><span class='ee-v'>int</span></li></ul></li><li><label class='ee-shut'>dimensions: [400750, 240450]<input type='checkbox' class='ee-toggle'></label><ul><li><span class='ee-k'>0:</span><span class='ee-v'>400750</span></li><li><span class='ee-k'>1:</span><span class='ee-v'>240450</span></li></ul></li></ul></li></ul></li><li><label class='ee-shut'>properties: Object (11 properties)<input type='checkbox' class='ee-toggle'></label><ul><li><label class='ee-shut'>discrete_classification_class_names: List (23 elements)<input type='checkbox' class='ee-toggle'></label><ul><li><span class='ee-k'>0:</span><span class='ee-v'>Unknown. No or not enough satellite data available.</span></li><li><span class='ee-k'>1:</span><span class='ee-v'>Shrubs. Woody perennial plants with persistent and woody stems\n",
       "and without any defined main stem being less than 5 m tall. The\n",
       "shrub foliage can be either evergreen or deciduous.\n",
       "</span></li><li><span class='ee-k'>2:</span><span class='ee-v'>Herbaceous vegetation. Plants without persistent stem or shoots above ground\n",
       "and lacking definite firm structure. Tree and shrub cover is less\n",
       "than 10 %.\n",
       "</span></li><li><span class='ee-k'>3:</span><span class='ee-v'>Cultivated and managed vegetation / agriculture. Lands covered with temporary crops followed by harvest\n",
       "and a bare soil period (e.g., single and multiple cropping systems).\n",
       "Note that perennial woody crops will be classified as the appropriate\n",
       "forest or shrub land cover type.\n",
       "</span></li><li><span class='ee-k'>4:</span><span class='ee-v'>Urban / built up. Land covered by buildings and other man-made structures.</span></li><li><span class='ee-k'>5:</span><span class='ee-v'>Bare / sparse vegetation. Lands with exposed soil, sand, or rocks and never has\n",
       "more than 10 % vegetated cover during any time of the year.\n",
       "</span></li><li><span class='ee-k'>6:</span><span class='ee-v'>Snow and ice. Lands under snow or ice cover throughout the year.</span></li><li><span class='ee-k'>7:</span><span class='ee-v'>Permanent water bodies. Lakes, reservoirs, and rivers. Can be either fresh or salt-water bodies.</span></li><li><span class='ee-k'>8:</span><span class='ee-v'>Herbaceous wetland. Lands with a permanent mixture of water and herbaceous\n",
       "or woody vegetation. The vegetation can be present in either salt,\n",
       "brackish, or fresh water.\n",
       "</span></li><li><span class='ee-k'>9:</span><span class='ee-v'>Moss and lichen.</span></li><li><span class='ee-k'>10:</span><span class='ee-v'>Closed forest, evergreen needle leaf. Tree canopy >70 %, almost all needle leaf trees remain\n",
       "green all year. Canopy is never without green foliage.\n",
       "</span></li><li><span class='ee-k'>11:</span><span class='ee-v'>Closed forest, evergreen broad leaf. Tree canopy >70 %, almost all broadleaf trees remain\n",
       "green year round. Canopy is never without green foliage.\n",
       "</span></li><li><span class='ee-k'>12:</span><span class='ee-v'>Closed forest, deciduous needle leaf. Tree canopy >70 %, consists of seasonal needle leaf\n",
       "tree communities with an annual cycle of leaf-on and leaf-off\n",
       "periods.\n",
       "</span></li><li><span class='ee-k'>13:</span><span class='ee-v'>Closed forest, deciduous broad leaf. Tree canopy >70 %, consists of seasonal broadleaf\n",
       "tree communities with an annual cycle of leaf-on and leaf-off periods.\n",
       "</span></li><li><span class='ee-k'>14:</span><span class='ee-v'>Closed forest, mixed.</span></li><li><span class='ee-k'>15:</span><span class='ee-v'>Closed forest, not matching any of the other definitions.</span></li><li><span class='ee-k'>16:</span><span class='ee-v'>Open forest, evergreen needle leaf. Top layer- trees 15-70 % and second layer- mixed of shrubs\n",
       "and grassland, almost all needle leaf trees remain green all year.\n",
       "Canopy is never without green foliage.\n",
       "</span></li><li><span class='ee-k'>17:</span><span class='ee-v'>Open forest, evergreen broad leaf. Top layer- trees 15-70 % and second layer- mixed of shrubs\n",
       "and grassland, almost all broadleaf trees remain green year round.\n",
       "Canopy is never without green foliage.\n",
       "</span></li><li><span class='ee-k'>18:</span><span class='ee-v'>Open forest, deciduous needle leaf. Top layer- trees 15-70 % and second layer- mixed of shrubs\n",
       "and grassland, consists of seasonal needle leaf tree communities with\n",
       "an annual cycle of leaf-on and leaf-off periods.\n",
       "</span></li><li><span class='ee-k'>19:</span><span class='ee-v'>Open forest, deciduous broad leaf. Top layer- trees 15-70 % and second layer- mixed of shrubs\n",
       "and grassland, consists of seasonal broadleaf tree communities with\n",
       "an annual cycle of leaf-on and leaf-off periods.\n",
       "</span></li><li><span class='ee-k'>20:</span><span class='ee-v'>Open forest, mixed.</span></li><li><span class='ee-k'>21:</span><span class='ee-v'>Open forest, not matching any of the other definitions.</span></li><li><span class='ee-k'>22:</span><span class='ee-v'>Oceans, seas. Can be either fresh or salt-water bodies.</span></li></ul></li><li><label class='ee-shut'>discrete_classification_class_palette: List (23 elements)<input type='checkbox' class='ee-toggle'></label><ul><li><span class='ee-k'>0:</span><span class='ee-v'>282828</span></li><li><span class='ee-k'>1:</span><span class='ee-v'>ffbb22</span></li><li><span class='ee-k'>2:</span><span class='ee-v'>ffff4c</span></li><li><span class='ee-k'>3:</span><span class='ee-v'>f096ff</span></li><li><span class='ee-k'>4:</span><span class='ee-v'>fa0000</span></li><li><span class='ee-k'>5:</span><span class='ee-v'>b4b4b4</span></li><li><span class='ee-k'>6:</span><span class='ee-v'>f0f0f0</span></li><li><span class='ee-k'>7:</span><span class='ee-v'>0032c8</span></li><li><span class='ee-k'>8:</span><span class='ee-v'>0096a0</span></li><li><span class='ee-k'>9:</span><span class='ee-v'>fae6a0</span></li><li><span class='ee-k'>10:</span><span class='ee-v'>58481f</span></li><li><span class='ee-k'>11:</span><span class='ee-v'>009900</span></li><li><span class='ee-k'>12:</span><span class='ee-v'>70663e</span></li><li><span class='ee-k'>13:</span><span class='ee-v'>00cc00</span></li><li><span class='ee-k'>14:</span><span class='ee-v'>4e751f</span></li><li><span class='ee-k'>15:</span><span class='ee-v'>007800</span></li><li><span class='ee-k'>16:</span><span class='ee-v'>666000</span></li><li><span class='ee-k'>17:</span><span class='ee-v'>8db400</span></li><li><span class='ee-k'>18:</span><span class='ee-v'>8d7400</span></li><li><span class='ee-k'>19:</span><span class='ee-v'>a0dc00</span></li><li><span class='ee-k'>20:</span><span class='ee-v'>929900</span></li><li><span class='ee-k'>21:</span><span class='ee-v'>648c00</span></li><li><span class='ee-k'>22:</span><span class='ee-v'>000080</span></li></ul></li><li><label class='ee-shut'>discrete_classification_class_values: List (23 elements)<input type='checkbox' class='ee-toggle'></label><ul><li><span class='ee-k'>0:</span><span class='ee-v'>0</span></li><li><span class='ee-k'>1:</span><span class='ee-v'>20</span></li><li><span class='ee-k'>2:</span><span class='ee-v'>30</span></li><li><span class='ee-k'>3:</span><span class='ee-v'>40</span></li><li><span class='ee-k'>4:</span><span class='ee-v'>50</span></li><li><span class='ee-k'>5:</span><span class='ee-v'>60</span></li><li><span class='ee-k'>6:</span><span class='ee-v'>70</span></li><li><span class='ee-k'>7:</span><span class='ee-v'>80</span></li><li><span class='ee-k'>8:</span><span class='ee-v'>90</span></li><li><span class='ee-k'>9:</span><span class='ee-v'>100</span></li><li><span class='ee-k'>10:</span><span class='ee-v'>111</span></li><li><span class='ee-k'>11:</span><span class='ee-v'>112</span></li><li><span class='ee-k'>12:</span><span class='ee-v'>113</span></li><li><span class='ee-k'>13:</span><span class='ee-v'>114</span></li><li><span class='ee-k'>14:</span><span class='ee-v'>115</span></li><li><span class='ee-k'>15:</span><span class='ee-v'>116</span></li><li><span class='ee-k'>16:</span><span class='ee-v'>121</span></li><li><span class='ee-k'>17:</span><span class='ee-v'>122</span></li><li><span class='ee-k'>18:</span><span class='ee-v'>123</span></li><li><span class='ee-k'>19:</span><span class='ee-v'>124</span></li><li><span class='ee-k'>20:</span><span class='ee-v'>125</span></li><li><span class='ee-k'>21:</span><span class='ee-v'>126</span></li><li><span class='ee-k'>22:</span><span class='ee-v'>200</span></li></ul></li><li><label class='ee-shut'>forest_type_class_names: List (6 elements)<input type='checkbox' class='ee-toggle'></label><ul><li><span class='ee-k'>0:</span><span class='ee-v'>Unknown</span></li><li><span class='ee-k'>1:</span><span class='ee-v'>Evergreen needle leaf</span></li><li><span class='ee-k'>2:</span><span class='ee-v'>Evergreen broad leaf</span></li><li><span class='ee-k'>3:</span><span class='ee-v'>Deciduous needle leaf</span></li><li><span class='ee-k'>4:</span><span class='ee-v'>Deciduous broad leaf</span></li><li><span class='ee-k'>5:</span><span class='ee-v'>Mix of forest types</span></li></ul></li><li><label class='ee-shut'>forest_type_class_palette: List (6 elements)<input type='checkbox' class='ee-toggle'></label><ul><li><span class='ee-k'>0:</span><span class='ee-v'>282828</span></li><li><span class='ee-k'>1:</span><span class='ee-v'>666000</span></li><li><span class='ee-k'>2:</span><span class='ee-v'>009900</span></li><li><span class='ee-k'>3:</span><span class='ee-v'>70663e</span></li><li><span class='ee-k'>4:</span><span class='ee-v'>a0dc00</span></li><li><span class='ee-k'>5:</span><span class='ee-v'>929900</span></li></ul></li><li><label class='ee-shut'>forest_type_class_values: [0, 1, 2, 3, 4, 5]<input type='checkbox' class='ee-toggle'></label><ul><li><span class='ee-k'>0:</span><span class='ee-v'>0</span></li><li><span class='ee-k'>1:</span><span class='ee-v'>1</span></li><li><span class='ee-k'>2:</span><span class='ee-v'>2</span></li><li><span class='ee-k'>3:</span><span class='ee-v'>3</span></li><li><span class='ee-k'>4:</span><span class='ee-v'>4</span></li><li><span class='ee-k'>5:</span><span class='ee-v'>5</span></li></ul></li><li><span class='ee-k'>system:asset_size:</span><span class='ee-v'>84728363000</span></li><li><label class='ee-shut'>system:footprint: LinearRing (5 vertices)<input type='checkbox' class='ee-toggle'></label><ul><li><span class='ee-k'>type:</span><span class='ee-v'>LinearRing</span></li><li><label class='ee-shut'>coordinates: List (5 elements)<input type='checkbox' class='ee-toggle'></label><ul><li><label class='ee-shut'>0: [-180, -90]<input type='checkbox' class='ee-toggle'></label><ul><li><span class='ee-k'>0:</span><span class='ee-v'>-180</span></li><li><span class='ee-k'>1:</span><span class='ee-v'>-90</span></li></ul></li><li><label class='ee-shut'>1: [180, -90]<input type='checkbox' class='ee-toggle'></label><ul><li><span class='ee-k'>0:</span><span class='ee-v'>180</span></li><li><span class='ee-k'>1:</span><span class='ee-v'>-90</span></li></ul></li><li><label class='ee-shut'>2: [180, 90]<input type='checkbox' class='ee-toggle'></label><ul><li><span class='ee-k'>0:</span><span class='ee-v'>180</span></li><li><span class='ee-k'>1:</span><span class='ee-v'>90</span></li></ul></li><li><label class='ee-shut'>3: [-180, 90]<input type='checkbox' class='ee-toggle'></label><ul><li><span class='ee-k'>0:</span><span class='ee-v'>-180</span></li><li><span class='ee-k'>1:</span><span class='ee-v'>90</span></li></ul></li><li><label class='ee-shut'>4: [-180, -90]<input type='checkbox' class='ee-toggle'></label><ul><li><span class='ee-k'>0:</span><span class='ee-v'>-180</span></li><li><span class='ee-k'>1:</span><span class='ee-v'>-90</span></li></ul></li></ul></li></ul></li><li><span class='ee-k'>system:index:</span><span class='ee-v'>2019</span></li><li><span class='ee-k'>system:time_end:</span><span class='ee-v'>1577836800000</span></li><li><span class='ee-k'>system:time_start:</span><span class='ee-v'>1546300800000</span></li></ul></li></ul></li></ul></div><script>function toggleHeader() {\n",
       "    const parent = this.parentElement;\n",
       "    parent.className = parent.className === \"ee-open\" ? \"ee-shut\" : \"ee-open\";\n",
       "}\n",
       "\n",
       "for (let c of document.getElementsByClassName(\"ee-toggle\")) {\n",
       "    c.onclick = toggleHeader;\n",
       "}</script></div>"
      ],
      "text/plain": [
       "<ee.image.Image at 0x1268e4800>"
      ]
     },
     "execution_count": 7,
     "metadata": {},
     "output_type": "execute_result"
    }
   ],
   "source": [
    "forest_type = ee.Image(\"COPERNICUS/Landcover/100m/Proba-V-C3/Global/2019\").select(\n",
    "    \"forest_type\"\n",
    ")\n",
    "forest_type"
   ]
  },
  {
   "cell_type": "code",
   "execution_count": 8,
   "metadata": {},
   "outputs": [
    {
     "data": {
      "text/html": [
       "\n",
       "            <style>\n",
       "                .geemap-dark {\n",
       "                    --jp-widgets-color: white;\n",
       "                    --jp-widgets-label-color: white;\n",
       "                    --jp-ui-font-color1: white;\n",
       "                    --jp-layout-color2: #454545;\n",
       "                    background-color: #383838;\n",
       "                }\n",
       "\n",
       "                .geemap-dark .jupyter-button {\n",
       "                    --jp-layout-color3: #383838;\n",
       "                }\n",
       "\n",
       "                .geemap-colab {\n",
       "                    background-color: var(--colab-primary-surface-color, white);\n",
       "                }\n",
       "\n",
       "                .geemap-colab .jupyter-button {\n",
       "                    --jp-layout-color3: var(--colab-primary-surface-color, white);\n",
       "                }\n",
       "            </style>\n",
       "            "
      ],
      "text/plain": [
       "<IPython.core.display.HTML object>"
      ]
     },
     "metadata": {},
     "output_type": "display_data"
    }
   ],
   "source": [
    "forest_type_clip = forest_type.clip(af_fc)"
   ]
  },
  {
   "cell_type": "code",
   "execution_count": 9,
   "metadata": {},
   "outputs": [
    {
     "data": {
      "text/html": [
       "\n",
       "            <style>\n",
       "                .geemap-dark {\n",
       "                    --jp-widgets-color: white;\n",
       "                    --jp-widgets-label-color: white;\n",
       "                    --jp-ui-font-color1: white;\n",
       "                    --jp-layout-color2: #454545;\n",
       "                    background-color: #383838;\n",
       "                }\n",
       "\n",
       "                .geemap-dark .jupyter-button {\n",
       "                    --jp-layout-color3: #383838;\n",
       "                }\n",
       "\n",
       "                .geemap-colab {\n",
       "                    background-color: var(--colab-primary-surface-color, white);\n",
       "                }\n",
       "\n",
       "                .geemap-colab .jupyter-button {\n",
       "                    --jp-layout-color3: var(--colab-primary-surface-color, white);\n",
       "                }\n",
       "            </style>\n",
       "            "
      ],
      "text/plain": [
       "<IPython.core.display.HTML object>"
      ]
     },
     "metadata": {},
     "output_type": "display_data"
    }
   ],
   "source": [
    "forest_type_filtered = forest_type_clip.updateMask(forest_type.neq(0))"
   ]
  },
  {
   "cell_type": "code",
   "execution_count": 10,
   "metadata": {},
   "outputs": [
    {
     "data": {
      "text/html": [
       "\n",
       "            <style>\n",
       "                .geemap-dark {\n",
       "                    --jp-widgets-color: white;\n",
       "                    --jp-widgets-label-color: white;\n",
       "                    --jp-ui-font-color1: white;\n",
       "                    --jp-layout-color2: #454545;\n",
       "                    background-color: #383838;\n",
       "                }\n",
       "\n",
       "                .geemap-dark .jupyter-button {\n",
       "                    --jp-layout-color3: #383838;\n",
       "                }\n",
       "\n",
       "                .geemap-colab {\n",
       "                    background-color: var(--colab-primary-surface-color, white);\n",
       "                }\n",
       "\n",
       "                .geemap-colab .jupyter-button {\n",
       "                    --jp-layout-color3: var(--colab-primary-surface-color, white);\n",
       "                }\n",
       "            </style>\n",
       "            "
      ],
      "text/plain": [
       "<IPython.core.display.HTML object>"
      ]
     },
     "metadata": {},
     "output_type": "display_data"
    },
    {
     "data": {
      "application/vnd.jupyter.widget-view+json": {
       "model_id": "72397e482d3448ba8a592b94b06d25db",
       "version_major": 2,
       "version_minor": 0
      },
      "text/plain": [
       "Map(center=[0, 0], controls=(WidgetControl(options=['position', 'transparent_bg'], widget=SearchDataGUI(childr…"
      ]
     },
     "execution_count": 10,
     "metadata": {},
     "output_type": "execute_result"
    }
   ],
   "source": [
    "create_geemap(\n",
    "    image=forest_type_filtered,\n",
    "    data_viz=forest_type_dict,\n",
    "    center_by=af_fc,\n",
    "    map_title=\"Forest Type (Copernicus Land Cover)\",\n",
    "    categorical=True,\n",
    ")"
   ]
  },
  {
   "cell_type": "markdown",
   "metadata": {},
   "source": [
    "![Atlantic Forest Forest Type](../../maps/atlantic_forest_types.png)"
   ]
  },
  {
   "cell_type": "code",
   "execution_count": 99,
   "metadata": {},
   "outputs": [
    {
     "data": {
      "text/html": [
       "\n",
       "            <style>\n",
       "                .geemap-dark {\n",
       "                    --jp-widgets-color: white;\n",
       "                    --jp-widgets-label-color: white;\n",
       "                    --jp-ui-font-color1: white;\n",
       "                    --jp-layout-color2: #454545;\n",
       "                    background-color: #383838;\n",
       "                }\n",
       "\n",
       "                .geemap-dark .jupyter-button {\n",
       "                    --jp-layout-color3: #383838;\n",
       "                }\n",
       "\n",
       "                .geemap-colab {\n",
       "                    background-color: var(--colab-primary-surface-color, white);\n",
       "                }\n",
       "\n",
       "                .geemap-colab .jupyter-button {\n",
       "                    --jp-layout-color3: var(--colab-primary-surface-color, white);\n",
       "                }\n",
       "            </style>\n",
       "            "
      ],
      "text/plain": [
       "<IPython.core.display.HTML object>"
      ]
     },
     "metadata": {},
     "output_type": "display_data"
    }
   ],
   "source": [
    "land_cover_classification = ee.Image(\n",
    "    \"COPERNICUS/Landcover/100m/Proba-V-C3/Global/2019\"\n",
    ").select(\"discrete_classification\")"
   ]
  },
  {
   "cell_type": "code",
   "execution_count": 100,
   "metadata": {},
   "outputs": [
    {
     "data": {
      "text/html": [
       "\n",
       "            <style>\n",
       "                .geemap-dark {\n",
       "                    --jp-widgets-color: white;\n",
       "                    --jp-widgets-label-color: white;\n",
       "                    --jp-ui-font-color1: white;\n",
       "                    --jp-layout-color2: #454545;\n",
       "                    background-color: #383838;\n",
       "                }\n",
       "\n",
       "                .geemap-dark .jupyter-button {\n",
       "                    --jp-layout-color3: #383838;\n",
       "                }\n",
       "\n",
       "                .geemap-colab {\n",
       "                    background-color: var(--colab-primary-surface-color, white);\n",
       "                }\n",
       "\n",
       "                .geemap-colab .jupyter-button {\n",
       "                    --jp-layout-color3: var(--colab-primary-surface-color, white);\n",
       "                }\n",
       "            </style>\n",
       "            "
      ],
      "text/plain": [
       "<IPython.core.display.HTML object>"
      ]
     },
     "metadata": {},
     "output_type": "display_data"
    }
   ],
   "source": [
    "land_cover_clipped = land_cover_classification.clip(af_fc)"
   ]
  },
  {
   "cell_type": "code",
   "execution_count": 101,
   "metadata": {},
   "outputs": [
    {
     "data": {
      "text/html": [
       "\n",
       "            <style>\n",
       "                .geemap-dark {\n",
       "                    --jp-widgets-color: white;\n",
       "                    --jp-widgets-label-color: white;\n",
       "                    --jp-ui-font-color1: white;\n",
       "                    --jp-layout-color2: #454545;\n",
       "                    background-color: #383838;\n",
       "                }\n",
       "\n",
       "                .geemap-dark .jupyter-button {\n",
       "                    --jp-layout-color3: #383838;\n",
       "                }\n",
       "\n",
       "                .geemap-colab {\n",
       "                    background-color: var(--colab-primary-surface-color, white);\n",
       "                }\n",
       "\n",
       "                .geemap-colab .jupyter-button {\n",
       "                    --jp-layout-color3: var(--colab-primary-surface-color, white);\n",
       "                }\n",
       "            </style>\n",
       "            "
      ],
      "text/plain": [
       "<IPython.core.display.HTML object>"
      ]
     },
     "metadata": {},
     "output_type": "display_data"
    },
    {
     "data": {
      "application/vnd.jupyter.widget-view+json": {
       "model_id": "d828e6991733476198bec7747efb7822",
       "version_major": 2,
       "version_minor": 0
      },
      "text/plain": [
       "Map(center=[0, 0], controls=(WidgetControl(options=['position', 'transparent_bg'], widget=SearchDataGUI(childr…"
      ]
     },
     "execution_count": 101,
     "metadata": {},
     "output_type": "execute_result"
    }
   ],
   "source": [
    "p = geemap.Map()\n",
    "p.centerObject(af_fc)\n",
    "p.addLayer(land_cover_clipped, {}, \"Copernicus Global Land Cover Layers\")\n",
    "# text = \"Made by Ilse Paniagua\"\n",
    "# p.add_text(text)\n",
    "# p.add_legend(title=\"\", legend_dict=land_cover_dict)\n",
    "p"
   ]
  },
  {
   "cell_type": "markdown",
   "metadata": {},
   "source": [
    "# Forest Loss\n",
    "\n",
    "The forest has been disturbed for over 500 years due to logging and clearing for the cultivation of sugarcane, coffee, and cacao plantations that drove exports in Brazil from early colonial times to early in the 20th century (de Lima Palidon and dos Santos Guapyassu, 2005). In recent history, forest disturbances have been driven by expanding human populations and land conversion to urban areas. Figure 4 shows the year of forest loss in the Atlantic Forest from 2001 to 2023. Coastal areas saw deforestation in the early 2000s, while inland and outer forest sections have seen deforestation in the 2010s and 2020s. "
   ]
  },
  {
   "cell_type": "code",
   "execution_count": 89,
   "metadata": {},
   "outputs": [
    {
     "data": {
      "text/html": [
       "\n",
       "            <style>\n",
       "                .geemap-dark {\n",
       "                    --jp-widgets-color: white;\n",
       "                    --jp-widgets-label-color: white;\n",
       "                    --jp-ui-font-color1: white;\n",
       "                    --jp-layout-color2: #454545;\n",
       "                    background-color: #383838;\n",
       "                }\n",
       "\n",
       "                .geemap-dark .jupyter-button {\n",
       "                    --jp-layout-color3: #383838;\n",
       "                }\n",
       "\n",
       "                .geemap-colab {\n",
       "                    background-color: var(--colab-primary-surface-color, white);\n",
       "                }\n",
       "\n",
       "                .geemap-colab .jupyter-button {\n",
       "                    --jp-layout-color3: var(--colab-primary-surface-color, white);\n",
       "                }\n",
       "            </style>\n",
       "            "
      ],
      "text/plain": [
       "<IPython.core.display.HTML object>"
      ]
     },
     "metadata": {},
     "output_type": "display_data"
    }
   ],
   "source": [
    "hansen = ee.Image(\"UMD/hansen/global_forest_change_2023_v1_11\").select(\"lossyear\")\n",
    "hansen_clipped = hansen.clip(af_fc)"
   ]
  },
  {
   "cell_type": "code",
   "execution_count": 94,
   "metadata": {},
   "outputs": [
    {
     "data": {
      "text/html": [
       "\n",
       "            <style>\n",
       "                .geemap-dark {\n",
       "                    --jp-widgets-color: white;\n",
       "                    --jp-widgets-label-color: white;\n",
       "                    --jp-ui-font-color1: white;\n",
       "                    --jp-layout-color2: #454545;\n",
       "                    background-color: #383838;\n",
       "                }\n",
       "\n",
       "                .geemap-dark .jupyter-button {\n",
       "                    --jp-layout-color3: #383838;\n",
       "                }\n",
       "\n",
       "                .geemap-colab {\n",
       "                    background-color: var(--colab-primary-surface-color, white);\n",
       "                }\n",
       "\n",
       "                .geemap-colab .jupyter-button {\n",
       "                    --jp-layout-color3: var(--colab-primary-surface-color, white);\n",
       "                }\n",
       "            </style>\n",
       "            "
      ],
      "text/plain": [
       "<IPython.core.display.HTML object>"
      ]
     },
     "metadata": {},
     "output_type": "display_data"
    }
   ],
   "source": [
    "loss_ramp = {\n",
    "    \"palette\": \"cividis\",\n",
    "    \"min\": 1,\n",
    "    \"max\": 23,\n",
    "}"
   ]
  },
  {
   "cell_type": "code",
   "execution_count": 92,
   "metadata": {},
   "outputs": [
    {
     "data": {
      "text/html": [
       "\n",
       "            <style>\n",
       "                .geemap-dark {\n",
       "                    --jp-widgets-color: white;\n",
       "                    --jp-widgets-label-color: white;\n",
       "                    --jp-ui-font-color1: white;\n",
       "                    --jp-layout-color2: #454545;\n",
       "                    background-color: #383838;\n",
       "                }\n",
       "\n",
       "                .geemap-dark .jupyter-button {\n",
       "                    --jp-layout-color3: #383838;\n",
       "                }\n",
       "\n",
       "                .geemap-colab {\n",
       "                    background-color: var(--colab-primary-surface-color, white);\n",
       "                }\n",
       "\n",
       "                .geemap-colab .jupyter-button {\n",
       "                    --jp-layout-color3: var(--colab-primary-surface-color, white);\n",
       "                }\n",
       "            </style>\n",
       "            "
      ],
      "text/plain": [
       "<IPython.core.display.HTML object>"
      ]
     },
     "metadata": {},
     "output_type": "display_data"
    }
   ],
   "source": [
    "loss_colors = matplotlib_ramp_to_hexcodes(color_ramp=\"cividis\")"
   ]
  },
  {
   "cell_type": "code",
   "execution_count": 97,
   "metadata": {},
   "outputs": [
    {
     "data": {
      "text/html": [
       "\n",
       "            <style>\n",
       "                .geemap-dark {\n",
       "                    --jp-widgets-color: white;\n",
       "                    --jp-widgets-label-color: white;\n",
       "                    --jp-ui-font-color1: white;\n",
       "                    --jp-layout-color2: #454545;\n",
       "                    background-color: #383838;\n",
       "                }\n",
       "\n",
       "                .geemap-dark .jupyter-button {\n",
       "                    --jp-layout-color3: #383838;\n",
       "                }\n",
       "\n",
       "                .geemap-colab {\n",
       "                    background-color: var(--colab-primary-surface-color, white);\n",
       "                }\n",
       "\n",
       "                .geemap-colab .jupyter-button {\n",
       "                    --jp-layout-color3: var(--colab-primary-surface-color, white);\n",
       "                }\n",
       "            </style>\n",
       "            "
      ],
      "text/plain": [
       "<IPython.core.display.HTML object>"
      ]
     },
     "metadata": {},
     "output_type": "display_data"
    },
    {
     "data": {
      "application/vnd.jupyter.widget-view+json": {
       "model_id": "041276565d804ab3aa71c1ff911509e7",
       "version_major": 2,
       "version_minor": 0
      },
      "text/plain": [
       "Map(center=[0, 0], controls=(WidgetControl(options=['position', 'transparent_bg'], widget=SearchDataGUI(childr…"
      ]
     },
     "execution_count": 97,
     "metadata": {},
     "output_type": "execute_result"
    }
   ],
   "source": [
    "p = None\n",
    "p = geemap.Map()\n",
    "p.addLayer(hansen_clipped, loss_ramp, \"Year of Forest Loss\")\n",
    "p.centerObject(af_fc)\n",
    "# p.add_text(\"Made by Ilse Paniagua\")\n",
    "# p.add_colorbar_branca(colors=loss_colors, vmin=1, vmax=23, orientation=\"horizontal\", caption=\"Year of Forest Loss (2000-2023)\",)\n",
    "p"
   ]
  },
  {
   "cell_type": "markdown",
   "metadata": {},
   "source": [
    "![](../../maps/atlantic_forest_year_of_forest_loss.png)"
   ]
  },
  {
   "cell_type": "markdown",
   "metadata": {},
   "source": [
    "# Carbon Density\n",
    "\n",
    "The literature shows a diverse range in carbon density throughout the Atlantic Forest. Due to it fragmented location in high elevation areas, I expect carbon density to be lower in the Atlantic Forest compared to biomes like the Amazon. I also expect above ground biomass (AGB) to be higher than below ground biomass (BGB) throughout the forest.\n",
    "\n",
    "I expect there to be some variation in ABG throughout the forest. AGB is likely higher in the inland forest section compared to the coastal forest. Soil in the coastal forest has been described as sandy, infertile soil, which likely affects the composition of trees due to poor soil quality (de Lima Palidon and dos Santos Guapyassu, 2005).\n",
    "\n",
    "The figure below shows AGB carbon estimates from the Global Land Analysis and Disccovery at the University of Maryland using Global Ecosystem Dynamics Investigation (GEDI) lidar data and Landsat time series data. Estimates are provided for 2019 at a 30-meter spatial resolution (Potapov et al., 2020). The maximum canopy height estimated in the Atlantic Forest is about 30 meters.\n"
   ]
  },
  {
   "cell_type": "code",
   "execution_count": 35,
   "metadata": {},
   "outputs": [
    {
     "data": {
      "text/html": [
       "\n",
       "            <style>\n",
       "                .geemap-dark {\n",
       "                    --jp-widgets-color: white;\n",
       "                    --jp-widgets-label-color: white;\n",
       "                    --jp-ui-font-color1: white;\n",
       "                    --jp-layout-color2: #454545;\n",
       "                    background-color: #383838;\n",
       "                }\n",
       "\n",
       "                .geemap-dark .jupyter-button {\n",
       "                    --jp-layout-color3: #383838;\n",
       "                }\n",
       "\n",
       "                .geemap-colab {\n",
       "                    background-color: var(--colab-primary-surface-color, white);\n",
       "                }\n",
       "\n",
       "                .geemap-colab .jupyter-button {\n",
       "                    --jp-layout-color3: var(--colab-primary-surface-color, white);\n",
       "                }\n",
       "            </style>\n",
       "            "
      ],
      "text/plain": [
       "<IPython.core.display.HTML object>"
      ]
     },
     "metadata": {},
     "output_type": "display_data"
    }
   ],
   "source": [
    "canopy_height_collection = ee.ImageCollection(\"users/potapovpeter/GEDI_V27\")"
   ]
  },
  {
   "cell_type": "code",
   "execution_count": 45,
   "metadata": {},
   "outputs": [
    {
     "data": {
      "text/html": [
       "\n",
       "            <style>\n",
       "                .geemap-dark {\n",
       "                    --jp-widgets-color: white;\n",
       "                    --jp-widgets-label-color: white;\n",
       "                    --jp-ui-font-color1: white;\n",
       "                    --jp-layout-color2: #454545;\n",
       "                    background-color: #383838;\n",
       "                }\n",
       "\n",
       "                .geemap-dark .jupyter-button {\n",
       "                    --jp-layout-color3: #383838;\n",
       "                }\n",
       "\n",
       "                .geemap-colab {\n",
       "                    background-color: var(--colab-primary-surface-color, white);\n",
       "                }\n",
       "\n",
       "                .geemap-colab .jupyter-button {\n",
       "                    --jp-layout-color3: var(--colab-primary-surface-color, white);\n",
       "                }\n",
       "            </style>\n",
       "            "
      ],
      "text/plain": [
       "<IPython.core.display.HTML object>"
      ]
     },
     "metadata": {},
     "output_type": "display_data"
    }
   ],
   "source": [
    "canopy_height_clip = canopy_height_collection.median().clip(af_fc)"
   ]
  },
  {
   "cell_type": "code",
   "execution_count": null,
   "metadata": {},
   "outputs": [],
   "source": [
    "canopy_height_stats = canopy_height_clip.reduceRegion(\n",
    "    reducer=combined_reducer, geometry=af_fc, scale=30, bestEffort=True\n",
    ")\n",
    "print(canopy_height_stats.getInfo())"
   ]
  },
  {
   "cell_type": "code",
   "execution_count": 75,
   "metadata": {},
   "outputs": [
    {
     "data": {
      "text/html": [
       "\n",
       "            <style>\n",
       "                .geemap-dark {\n",
       "                    --jp-widgets-color: white;\n",
       "                    --jp-widgets-label-color: white;\n",
       "                    --jp-ui-font-color1: white;\n",
       "                    --jp-layout-color2: #454545;\n",
       "                    background-color: #383838;\n",
       "                }\n",
       "\n",
       "                .geemap-dark .jupyter-button {\n",
       "                    --jp-layout-color3: #383838;\n",
       "                }\n",
       "\n",
       "                .geemap-colab {\n",
       "                    background-color: var(--colab-primary-surface-color, white);\n",
       "                }\n",
       "\n",
       "                .geemap-colab .jupyter-button {\n",
       "                    --jp-layout-color3: var(--colab-primary-surface-color, white);\n",
       "                }\n",
       "            </style>\n",
       "            "
      ],
      "text/plain": [
       "<IPython.core.display.HTML object>"
      ]
     },
     "metadata": {},
     "output_type": "display_data"
    }
   ],
   "source": [
    "canopy_viz = {\"palette\": \"YlGnBu\", \"min\": 0, \"max\": 30}"
   ]
  },
  {
   "cell_type": "code",
   "execution_count": 76,
   "metadata": {},
   "outputs": [
    {
     "data": {
      "text/html": [
       "\n",
       "            <style>\n",
       "                .geemap-dark {\n",
       "                    --jp-widgets-color: white;\n",
       "                    --jp-widgets-label-color: white;\n",
       "                    --jp-ui-font-color1: white;\n",
       "                    --jp-layout-color2: #454545;\n",
       "                    background-color: #383838;\n",
       "                }\n",
       "\n",
       "                .geemap-dark .jupyter-button {\n",
       "                    --jp-layout-color3: #383838;\n",
       "                }\n",
       "\n",
       "                .geemap-colab {\n",
       "                    background-color: var(--colab-primary-surface-color, white);\n",
       "                }\n",
       "\n",
       "                .geemap-colab .jupyter-button {\n",
       "                    --jp-layout-color3: var(--colab-primary-surface-color, white);\n",
       "                }\n",
       "            </style>\n",
       "            "
      ],
      "text/plain": [
       "<IPython.core.display.HTML object>"
      ]
     },
     "metadata": {},
     "output_type": "display_data"
    }
   ],
   "source": [
    "ylgnbl_hexcodes = matplotlib_ramp_to_hexcodes(color_ramp=\"YlGnBu\", n_colors=9)"
   ]
  },
  {
   "cell_type": "code",
   "execution_count": 77,
   "metadata": {},
   "outputs": [
    {
     "data": {
      "text/html": [
       "\n",
       "            <style>\n",
       "                .geemap-dark {\n",
       "                    --jp-widgets-color: white;\n",
       "                    --jp-widgets-label-color: white;\n",
       "                    --jp-ui-font-color1: white;\n",
       "                    --jp-layout-color2: #454545;\n",
       "                    background-color: #383838;\n",
       "                }\n",
       "\n",
       "                .geemap-dark .jupyter-button {\n",
       "                    --jp-layout-color3: #383838;\n",
       "                }\n",
       "\n",
       "                .geemap-colab {\n",
       "                    background-color: var(--colab-primary-surface-color, white);\n",
       "                }\n",
       "\n",
       "                .geemap-colab .jupyter-button {\n",
       "                    --jp-layout-color3: var(--colab-primary-surface-color, white);\n",
       "                }\n",
       "            </style>\n",
       "            "
      ],
      "text/plain": [
       "<IPython.core.display.HTML object>"
      ]
     },
     "metadata": {},
     "output_type": "display_data"
    },
    {
     "data": {
      "application/vnd.jupyter.widget-view+json": {
       "model_id": "f2936c738bdb4dcbb12c529228500013",
       "version_major": 2,
       "version_minor": 0
      },
      "text/plain": [
       "Map(center=[0, 0], controls=(WidgetControl(options=['position', 'transparent_bg'], widget=SearchDataGUI(childr…"
      ]
     },
     "execution_count": 77,
     "metadata": {},
     "output_type": "execute_result"
    }
   ],
   "source": [
    "w = geemap.Map()\n",
    "w.addLayer(canopy_height_clip, canopy_viz, \"Canopy Height (GEDI)\")\n",
    "w.centerObject(af_fc)\n",
    "# w.add_colorbar_branca(\n",
    "#     colors=ylgnbl_hexcodes,\n",
    "#     vmin=5,\n",
    "#     vmax=25,\n",
    "#     layer_name=\"Canopy Height (GEDI)\",\n",
    "#     orientation=\"horizontal\",\n",
    "#     caption=\"Canopy Height (m)\",\n",
    "# )\n",
    "w.add_text(\"Made by Ilse Paniagua\")\n",
    "w"
   ]
  },
  {
   "cell_type": "code",
   "execution_count": 78,
   "metadata": {},
   "outputs": [
    {
     "data": {
      "text/html": [
       "\n",
       "            <style>\n",
       "                .geemap-dark {\n",
       "                    --jp-widgets-color: white;\n",
       "                    --jp-widgets-label-color: white;\n",
       "                    --jp-ui-font-color1: white;\n",
       "                    --jp-layout-color2: #454545;\n",
       "                    background-color: #383838;\n",
       "                }\n",
       "\n",
       "                .geemap-dark .jupyter-button {\n",
       "                    --jp-layout-color3: #383838;\n",
       "                }\n",
       "\n",
       "                .geemap-colab {\n",
       "                    background-color: var(--colab-primary-surface-color, white);\n",
       "                }\n",
       "\n",
       "                .geemap-colab .jupyter-button {\n",
       "                    --jp-layout-color3: var(--colab-primary-surface-color, white);\n",
       "                }\n",
       "            </style>\n",
       "            "
      ],
      "text/plain": [
       "<IPython.core.display.HTML object>"
      ]
     },
     "metadata": {},
     "output_type": "display_data"
    }
   ],
   "source": [
    "roi = w.user_roi"
   ]
  },
  {
   "cell_type": "code",
   "execution_count": null,
   "metadata": {},
   "outputs": [],
   "source": [
    "roi.getInfo()"
   ]
  },
  {
   "cell_type": "code",
   "execution_count": 84,
   "metadata": {},
   "outputs": [
    {
     "data": {
      "text/html": [
       "\n",
       "            <style>\n",
       "                .geemap-dark {\n",
       "                    --jp-widgets-color: white;\n",
       "                    --jp-widgets-label-color: white;\n",
       "                    --jp-ui-font-color1: white;\n",
       "                    --jp-layout-color2: #454545;\n",
       "                    background-color: #383838;\n",
       "                }\n",
       "\n",
       "                .geemap-dark .jupyter-button {\n",
       "                    --jp-layout-color3: #383838;\n",
       "                }\n",
       "\n",
       "                .geemap-colab {\n",
       "                    background-color: var(--colab-primary-surface-color, white);\n",
       "                }\n",
       "\n",
       "                .geemap-colab .jupyter-button {\n",
       "                    --jp-layout-color3: var(--colab-primary-surface-color, white);\n",
       "                }\n",
       "            </style>\n",
       "            "
      ],
      "text/plain": [
       "<IPython.core.display.HTML object>"
      ]
     },
     "metadata": {},
     "output_type": "display_data"
    }
   ],
   "source": [
    "polygon = ee.Geometry.Polygon(\n",
    "    [\n",
    "        [\n",
    "            [-60.890352, -30.501934],\n",
    "            [-60.890352, -12.271573],\n",
    "            [-33.336884, -12.271573],\n",
    "            [-33.336884, -30.501934],\n",
    "            [-60.890352, -30.501934],\n",
    "        ]\n",
    "    ]\n",
    ")\n",
    "\n",
    "polygon_feature = ee.Feature(polygon)\n",
    "roi_fc = ee.FeatureCollection([polygon_feature])"
   ]
  },
  {
   "cell_type": "code",
   "execution_count": 88,
   "metadata": {},
   "outputs": [
    {
     "data": {
      "text/html": [
       "\n",
       "            <style>\n",
       "                .geemap-dark {\n",
       "                    --jp-widgets-color: white;\n",
       "                    --jp-widgets-label-color: white;\n",
       "                    --jp-ui-font-color1: white;\n",
       "                    --jp-layout-color2: #454545;\n",
       "                    background-color: #383838;\n",
       "                }\n",
       "\n",
       "                .geemap-dark .jupyter-button {\n",
       "                    --jp-layout-color3: #383838;\n",
       "                }\n",
       "\n",
       "                .geemap-colab {\n",
       "                    background-color: var(--colab-primary-surface-color, white);\n",
       "                }\n",
       "\n",
       "                .geemap-colab .jupyter-button {\n",
       "                    --jp-layout-color3: var(--colab-primary-surface-color, white);\n",
       "                }\n",
       "            </style>\n",
       "            "
      ],
      "text/plain": [
       "<IPython.core.display.HTML object>"
      ]
     },
     "metadata": {},
     "output_type": "display_data"
    },
    {
     "data": {
      "application/vnd.jupyter.widget-view+json": {
       "model_id": "9176cad34d5745d2aa55fa0ba57fbf79",
       "version_major": 2,
       "version_minor": 0
      },
      "text/plain": [
       "Map(center=[0, 0], controls=(WidgetControl(options=['position', 'transparent_bg'], widget=SearchDataGUI(childr…"
      ]
     },
     "execution_count": 88,
     "metadata": {},
     "output_type": "execute_result"
    }
   ],
   "source": [
    "s = geemap.Map()\n",
    "s.addLayer(\n",
    "    canopy_height_clip,\n",
    "    {\"palette\": \"YlGnBu\", \"min\": 5, \"max\": 20},\n",
    "    \"Canopy Height (GEDI)\",\n",
    ")\n",
    "s.centerObject(roi_fc)\n",
    "s"
   ]
  },
  {
   "cell_type": "markdown",
   "metadata": {},
   "source": [
    "![](../../maps/atlantic_forest_canopy_height.png)"
   ]
  },
  {
   "cell_type": "markdown",
   "metadata": {},
   "source": [
    "# Elevation\n",
    "\n",
    "There is a diversity in elevation and topographies in the Atlantic Forest. Elevation ranges from around -100 to 2800 meters in altitude, with distinct microclimates observed with differences in slope of about 100 meters (Burak et al., 2023). Although typically carbon density decreases with elevation, I believe carbon density likely increases with elevation in sections of the Atlantic Forest due to the historic role that elevation has played in which areas get deforested or degraded. For example, Hengl et al. (2015) found that both above and below ground biomass increased with elevation. A confounding element in this study is that remaining sections of the forest are largely inaccessible and cannot be cost-effectively cleared due to high elevations. This gives the impression that AGB increases with elevation, ignoring that forests in a lower elevation have already been converted to other land uses but might have a higher AGB in a counterfactual scenario.\n",
    "\n",
    "The figure below shows a comparison of elevation and canopy height estimates. The box shows a peak in elevation near the metropolitan city of Rio de Janeiro accompanied by high canopy heights.\n"
   ]
  },
  {
   "cell_type": "code",
   "execution_count": 26,
   "metadata": {},
   "outputs": [
    {
     "data": {
      "text/html": [
       "\n",
       "            <style>\n",
       "                .geemap-dark {\n",
       "                    --jp-widgets-color: white;\n",
       "                    --jp-widgets-label-color: white;\n",
       "                    --jp-ui-font-color1: white;\n",
       "                    --jp-layout-color2: #454545;\n",
       "                    background-color: #383838;\n",
       "                }\n",
       "\n",
       "                .geemap-dark .jupyter-button {\n",
       "                    --jp-layout-color3: #383838;\n",
       "                }\n",
       "\n",
       "                .geemap-colab {\n",
       "                    background-color: var(--colab-primary-surface-color, white);\n",
       "                }\n",
       "\n",
       "                .geemap-colab .jupyter-button {\n",
       "                    --jp-layout-color3: var(--colab-primary-surface-color, white);\n",
       "                }\n",
       "            </style>\n",
       "            "
      ],
      "text/plain": [
       "<IPython.core.display.HTML object>"
      ]
     },
     "metadata": {},
     "output_type": "display_data"
    }
   ],
   "source": [
    "dem = ee.ImageCollection(\"COPERNICUS/DEM/GLO30\")\n",
    "elevation = dem.select(\"DEM\").median()\n",
    "elevation_clipped = elevation.clipToCollection(af_fc)"
   ]
  },
  {
   "cell_type": "code",
   "execution_count": 42,
   "metadata": {},
   "outputs": [
    {
     "data": {
      "text/html": [
       "\n",
       "            <style>\n",
       "                .geemap-dark {\n",
       "                    --jp-widgets-color: white;\n",
       "                    --jp-widgets-label-color: white;\n",
       "                    --jp-ui-font-color1: white;\n",
       "                    --jp-layout-color2: #454545;\n",
       "                    background-color: #383838;\n",
       "                }\n",
       "\n",
       "                .geemap-dark .jupyter-button {\n",
       "                    --jp-layout-color3: #383838;\n",
       "                }\n",
       "\n",
       "                .geemap-colab {\n",
       "                    background-color: var(--colab-primary-surface-color, white);\n",
       "                }\n",
       "\n",
       "                .geemap-colab .jupyter-button {\n",
       "                    --jp-layout-color3: var(--colab-primary-surface-color, white);\n",
       "                }\n",
       "            </style>\n",
       "            "
      ],
      "text/plain": [
       "<IPython.core.display.HTML object>"
      ]
     },
     "metadata": {},
     "output_type": "display_data"
    }
   ],
   "source": [
    "# Apply the reduceRegion method to get the minimum value.\n",
    "elevation_stats = elevation_clipped.reduceRegion(\n",
    "    reducer=combined_reducer, geometry=af_fc, scale=30, bestEffort=True\n",
    ")"
   ]
  },
  {
   "cell_type": "code",
   "execution_count": 43,
   "metadata": {},
   "outputs": [
    {
     "data": {
      "text/html": [
       "\n",
       "            <style>\n",
       "                .geemap-dark {\n",
       "                    --jp-widgets-color: white;\n",
       "                    --jp-widgets-label-color: white;\n",
       "                    --jp-ui-font-color1: white;\n",
       "                    --jp-layout-color2: #454545;\n",
       "                    background-color: #383838;\n",
       "                }\n",
       "\n",
       "                .geemap-dark .jupyter-button {\n",
       "                    --jp-layout-color3: #383838;\n",
       "                }\n",
       "\n",
       "                .geemap-colab {\n",
       "                    background-color: var(--colab-primary-surface-color, white);\n",
       "                }\n",
       "\n",
       "                .geemap-colab .jupyter-button {\n",
       "                    --jp-layout-color3: var(--colab-primary-surface-color, white);\n",
       "                }\n",
       "            </style>\n",
       "            "
      ],
      "text/plain": [
       "<IPython.core.display.HTML object>"
      ]
     },
     "metadata": {},
     "output_type": "display_data"
    },
    {
     "name": "stdout",
     "output_type": "stream",
     "text": [
      "{'DEM_max': 2807.846435546875, 'DEM_min': -102.14678955078125}\n"
     ]
    }
   ],
   "source": [
    "print(elevation_stats.getInfo())"
   ]
  },
  {
   "cell_type": "code",
   "execution_count": null,
   "metadata": {},
   "outputs": [],
   "source": [
    "terrain_colors = matplotlib_ramp_to_hexcodes(color_ramp=\"terrain\")"
   ]
  },
  {
   "cell_type": "code",
   "execution_count": 17,
   "metadata": {},
   "outputs": [
    {
     "data": {
      "text/html": [
       "\n",
       "            <style>\n",
       "                .geemap-dark {\n",
       "                    --jp-widgets-color: white;\n",
       "                    --jp-widgets-label-color: white;\n",
       "                    --jp-ui-font-color1: white;\n",
       "                    --jp-layout-color2: #454545;\n",
       "                    background-color: #383838;\n",
       "                }\n",
       "\n",
       "                .geemap-dark .jupyter-button {\n",
       "                    --jp-layout-color3: #383838;\n",
       "                }\n",
       "\n",
       "                .geemap-colab {\n",
       "                    background-color: var(--colab-primary-surface-color, white);\n",
       "                }\n",
       "\n",
       "                .geemap-colab .jupyter-button {\n",
       "                    --jp-layout-color3: var(--colab-primary-surface-color, white);\n",
       "                }\n",
       "            </style>\n",
       "            "
      ],
      "text/plain": [
       "<IPython.core.display.HTML object>"
      ]
     },
     "metadata": {},
     "output_type": "display_data"
    }
   ],
   "source": [
    "elevation_viz = {\n",
    "    \"min\": -100,\n",
    "    \"max\": 2800.0,\n",
    "    \"palette\": terrain_colors,\n",
    "}"
   ]
  },
  {
   "cell_type": "code",
   "execution_count": 67,
   "metadata": {},
   "outputs": [
    {
     "data": {
      "text/html": [
       "\n",
       "            <style>\n",
       "                .geemap-dark {\n",
       "                    --jp-widgets-color: white;\n",
       "                    --jp-widgets-label-color: white;\n",
       "                    --jp-ui-font-color1: white;\n",
       "                    --jp-layout-color2: #454545;\n",
       "                    background-color: #383838;\n",
       "                }\n",
       "\n",
       "                .geemap-dark .jupyter-button {\n",
       "                    --jp-layout-color3: #383838;\n",
       "                }\n",
       "\n",
       "                .geemap-colab {\n",
       "                    background-color: var(--colab-primary-surface-color, white);\n",
       "                }\n",
       "\n",
       "                .geemap-colab .jupyter-button {\n",
       "                    --jp-layout-color3: var(--colab-primary-surface-color, white);\n",
       "                }\n",
       "            </style>\n",
       "            "
      ],
      "text/plain": [
       "<IPython.core.display.HTML object>"
      ]
     },
     "metadata": {},
     "output_type": "display_data"
    },
    {
     "data": {
      "application/vnd.jupyter.widget-view+json": {
       "model_id": "9bb667515401491c88b5c55eb39d4aee",
       "version_major": 2,
       "version_minor": 0
      },
      "text/plain": [
       "Map(center=[0, 0], controls=(WidgetControl(options=['position', 'transparent_bg'], widget=SearchDataGUI(childr…"
      ]
     },
     "execution_count": 67,
     "metadata": {},
     "output_type": "execute_result"
    }
   ],
   "source": [
    "q = geemap.Map()\n",
    "q.centerObject(af_fc)\n",
    "q.addLayer(elevation_clipped, elevation_viz, \"Elevation (m)\")\n",
    "q.add_colorbar_branca(\n",
    "    colors=terrain_colors,\n",
    "    vmin=0,\n",
    "    vmax=2000,\n",
    "    layer_name=\"Elevation (m)\",\n",
    "    caption=\"Elevation (m)\",\n",
    ")\n",
    "q.add_text(\"Made by Ilse Paniagua\")\n",
    "q"
   ]
  },
  {
   "cell_type": "code",
   "execution_count": 87,
   "metadata": {},
   "outputs": [
    {
     "data": {
      "text/html": [
       "\n",
       "            <style>\n",
       "                .geemap-dark {\n",
       "                    --jp-widgets-color: white;\n",
       "                    --jp-widgets-label-color: white;\n",
       "                    --jp-ui-font-color1: white;\n",
       "                    --jp-layout-color2: #454545;\n",
       "                    background-color: #383838;\n",
       "                }\n",
       "\n",
       "                .geemap-dark .jupyter-button {\n",
       "                    --jp-layout-color3: #383838;\n",
       "                }\n",
       "\n",
       "                .geemap-colab {\n",
       "                    background-color: var(--colab-primary-surface-color, white);\n",
       "                }\n",
       "\n",
       "                .geemap-colab .jupyter-button {\n",
       "                    --jp-layout-color3: var(--colab-primary-surface-color, white);\n",
       "                }\n",
       "            </style>\n",
       "            "
      ],
      "text/plain": [
       "<IPython.core.display.HTML object>"
      ]
     },
     "metadata": {},
     "output_type": "display_data"
    },
    {
     "data": {
      "application/vnd.jupyter.widget-view+json": {
       "model_id": "b516e3facbb0446ba3a7901bbecb1e98",
       "version_major": 2,
       "version_minor": 0
      },
      "text/plain": [
       "Map(center=[0, 0], controls=(WidgetControl(options=['position', 'transparent_bg'], widget=SearchDataGUI(childr…"
      ]
     },
     "execution_count": 87,
     "metadata": {},
     "output_type": "execute_result"
    }
   ],
   "source": [
    "t = geemap.Map()\n",
    "t.addLayer(elevation_clipped, elevation_viz)\n",
    "t.centerObject(roi_fc)\n",
    "t"
   ]
  },
  {
   "cell_type": "markdown",
   "metadata": {},
   "source": [
    "![](../../maps/atlantic_forest_elevation_canpopy_comparison.png)"
   ]
  },
  {
   "cell_type": "markdown",
   "metadata": {},
   "source": [
    "# "
   ]
  }
 ],
 "metadata": {
  "kernelspec": {
   "display_name": ".venv",
   "language": "python",
   "name": "python3"
  },
  "language_info": {
   "codemirror_mode": {
    "name": "ipython",
    "version": 3
   },
   "file_extension": ".py",
   "mimetype": "text/x-python",
   "name": "python",
   "nbconvert_exporter": "python",
   "pygments_lexer": "ipython3",
   "version": "3.12.7"
  }
 },
 "nbformat": 4,
 "nbformat_minor": 2
}
