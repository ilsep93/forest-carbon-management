{
 "cells": [
  {
   "cell_type": "markdown",
   "metadata": {},
   "source": [
    "1. Which geographic area of interest (AOI) are you focussing on?  This can be the same AOI you selected for written assignment 1, or you can focus on a new AOI. \n",
    "\n",
    "2. Describe your AOI in terms of it’s landscape characteristics: what are the dominant LULC categories?  Strictly speaking: do these qualify as purely land cover, land use, or combinations of land cover and land use?  \n",
    "\n",
    "3. Does the forest in your AOI have what you believe to be spectrally and ecologically distinct sub-types?  If so, what are they? And what spectral and / or ecological characteristics allow differentiation? \n",
    "\n",
    "4. How accessible is information representing LULC for your area of interest?  What about data relating to socio-cultural and socio-economic attributes, governance, and land-use rights?  And biodiversity?  \n",
    "\n",
    "5. Who are the primary stakeholders associated with the forests in your AOI? \n",
    "\n",
    "6. How would you describe the biodiversity associated with the forests in your AOI? \n",
    "\n",
    "7. Does carbon stock data exist specifically for the forests in your AOI (i.e., based on the results of a relevant forest inventory)?  If yes, did this inventory include forest stratification?  Which inventory methodology was used? And which carbon pools were assessed?  What about non-forest carbon stock values (e.g., deforested areas)? \n",
    "\n",
    "8. Are there allometric equations that were developed based on the forests in your AOI?  If yes, who developed them? If not, what are the closest/most appropriate allometric equations for you AOI? (find a regional, national, or international source)\n",
    "\n",
    "9. Is there growth and yield data available that’s applicable to the forests in your AOI?  If yes, what is the source? "
   ]
  },
  {
   "cell_type": "code",
   "execution_count": 1,
   "metadata": {},
   "outputs": [],
   "source": [
    "import ee\n",
    "import geopandas as gpd\n",
    "import geemap"
   ]
  },
  {
   "cell_type": "code",
   "execution_count": 2,
   "metadata": {},
   "outputs": [
    {
     "data": {
      "text/html": [
       "\n",
       "            <style>\n",
       "                .geemap-dark {\n",
       "                    --jp-widgets-color: white;\n",
       "                    --jp-widgets-label-color: white;\n",
       "                    --jp-ui-font-color1: white;\n",
       "                    --jp-layout-color2: #454545;\n",
       "                    background-color: #383838;\n",
       "                }\n",
       "\n",
       "                .geemap-dark .jupyter-button {\n",
       "                    --jp-layout-color3: #383838;\n",
       "                }\n",
       "\n",
       "                .geemap-colab {\n",
       "                    background-color: var(--colab-primary-surface-color, white);\n",
       "                }\n",
       "\n",
       "                .geemap-colab .jupyter-button {\n",
       "                    --jp-layout-color3: var(--colab-primary-surface-color, white);\n",
       "                }\n",
       "            </style>\n",
       "            "
      ],
      "text/plain": [
       "<IPython.core.display.HTML object>"
      ]
     },
     "metadata": {},
     "output_type": "display_data"
    }
   ],
   "source": [
    "ee.Authenticate()\n",
    "ee.Initialize()"
   ]
  },
  {
   "cell_type": "code",
   "execution_count": null,
   "metadata": {},
   "outputs": [],
   "source": [
    "legends = geemap.builtin_legends\n",
    "for legend in legends:\n",
    "    print(legend)"
   ]
  },
  {
   "cell_type": "code",
   "execution_count": null,
   "metadata": {},
   "outputs": [],
   "source": [
    "# In case of pyproj issues, specify proj data directory manually\n",
    "# pyproj.datadir.set_data_dir('/opt/homebrew/bin/proj/')"
   ]
  },
  {
   "cell_type": "code",
   "execution_count": null,
   "metadata": {},
   "outputs": [],
   "source": [
    "project_gdf = gpd.read_file(\n",
    "    \"../geometries/WDPA_WDOECM_Nov2024_Public_26621_shp/WDPA_WDOECM_Nov2024_Public_26621_shp-polygons.shp\"\n",
    ")\n",
    "project_fc = ee.FeatureCollection(project_gdf.__geo_interface__)"
   ]
  },
  {
   "cell_type": "markdown",
   "metadata": {},
   "source": [
    "## Copernicus Global Land Cover Layers: CGLS-LC100 \n",
    "\n",
    "Copernicus GLC layers are available at 100m resolution for the period 2015-2019.\n",
    "GCL images provide a discrete classification of a pixel, a quality indicator of the discrete classifsication, and a percent coverfraction of crops, grass, moss, shrubs, trees, and others. The forest type (5 classes) are also provided.\n",
    "\n",
    "This source is interesting for it's medium resolution and multiple forest type classifications, which are desirable for biomass estimates in this area."
   ]
  },
  {
   "cell_type": "code",
   "execution_count": 49,
   "metadata": {},
   "outputs": [
    {
     "data": {
      "text/html": [
       "\n",
       "            <style>\n",
       "                .geemap-dark {\n",
       "                    --jp-widgets-color: white;\n",
       "                    --jp-widgets-label-color: white;\n",
       "                    --jp-ui-font-color1: white;\n",
       "                    --jp-layout-color2: #454545;\n",
       "                    background-color: #383838;\n",
       "                }\n",
       "\n",
       "                .geemap-dark .jupyter-button {\n",
       "                    --jp-layout-color3: #383838;\n",
       "                }\n",
       "\n",
       "                .geemap-colab {\n",
       "                    background-color: var(--colab-primary-surface-color, white);\n",
       "                }\n",
       "\n",
       "                .geemap-colab .jupyter-button {\n",
       "                    --jp-layout-color3: var(--colab-primary-surface-color, white);\n",
       "                }\n",
       "            </style>\n",
       "            "
      ],
      "text/plain": [
       "<IPython.core.display.HTML object>"
      ]
     },
     "metadata": {},
     "output_type": "display_data"
    },
    {
     "data": {
      "text/html": [
       "<div><style>:root {\n",
       "  --font-color-primary: var(--jp-content-font-color0, rgba(0, 0, 0, 1));\n",
       "  --font-color-secondary: var(--jp-content-font-color2, rgba(0, 0, 0, 0.6));\n",
       "  --font-color-accent: rgba(123, 31, 162, 1);\n",
       "  --border-color: var(--jp-border-color2, #e0e0e0);\n",
       "  --background-color: var(--jp-layout-color0, white);\n",
       "  --background-color-row-even: var(--jp-layout-color1, white);\n",
       "  --background-color-row-odd: var(--jp-layout-color2, #eeeeee);\n",
       "}\n",
       "\n",
       "html[theme=\"dark\"],\n",
       "body[data-theme=\"dark\"],\n",
       "body.vscode-dark {\n",
       "  --font-color-primary: rgba(255, 255, 255, 1);\n",
       "  --font-color-secondary: rgba(255, 255, 255, 0.6);\n",
       "  --font-color-accent: rgb(173, 132, 190);\n",
       "  --border-color: #2e2e2e;\n",
       "  --background-color: #111111;\n",
       "  --background-color-row-even: #111111;\n",
       "  --background-color-row-odd: #313131;\n",
       "}\n",
       "\n",
       ".ee {\n",
       "  padding: 1em;\n",
       "  line-height: 1.5em;\n",
       "  min-width: 300px;\n",
       "  max-width: 1200px;\n",
       "  overflow-y: scroll;\n",
       "  max-height: 600px;\n",
       "  border: 1px solid var(--border-color);\n",
       "  font-family: monospace;\n",
       "}\n",
       "\n",
       ".ee li {\n",
       "  list-style-type: none;\n",
       "}\n",
       "\n",
       ".ee ul {\n",
       "  padding-left: 1.5em !important;\n",
       "  margin: 0;\n",
       "}\n",
       "\n",
       ".ee > ul {\n",
       "  padding-left: 0 !important;\n",
       "}\n",
       "\n",
       ".ee-open,\n",
       ".ee-shut {\n",
       "  color: var(--font-color-secondary);\n",
       "  cursor: pointer;\n",
       "  margin: 0;\n",
       "}\n",
       "\n",
       ".ee-open:hover,\n",
       ".ee-shut:hover {\n",
       "  color: var(--font-color-primary);\n",
       "}\n",
       "\n",
       ".ee-k {\n",
       "  color: var(--font-color-accent);\n",
       "  margin-right: 6px;\n",
       "}\n",
       "\n",
       ".ee-v {\n",
       "  color: var(--font-color-primary);\n",
       "}\n",
       "\n",
       ".ee-toggle {\n",
       "  display: none;\n",
       "}\n",
       "\n",
       ".ee-shut + ul {\n",
       "  display: none;\n",
       "}\n",
       "\n",
       ".ee-open + ul {\n",
       "  display: block;\n",
       "}\n",
       "\n",
       ".ee-shut::before {\n",
       "  display: inline-block;\n",
       "  content: \"▼\";\n",
       "  margin-right: 6px;\n",
       "  transform: rotate(-90deg);\n",
       "  transition: transform 0.2s;\n",
       "}\n",
       "\n",
       ".ee-open::before {\n",
       "  transform: rotate(0deg);\n",
       "  display: inline-block;\n",
       "  content: \"▼\";\n",
       "  margin-right: 6px;\n",
       "  transition: transform 0.2s;\n",
       "}\n",
       "</style><div class='ee'><ul><li><label class='ee-shut'>Image COPERNICUS/Landcover/100m/Proba-V-C3/Global/2019 (1 band)<input type='checkbox' class='ee-toggle'></label><ul><li><span class='ee-k'>type:</span><span class='ee-v'>Image</span></li><li><span class='ee-k'>id:</span><span class='ee-v'>COPERNICUS/Landcover/100m/Proba-V-C3/Global/2019</span></li><li><span class='ee-k'>version:</span><span class='ee-v'>1685078284447716</span></li><li><label class='ee-shut'>bands: List (1 element)<input type='checkbox' class='ee-toggle'></label><ul><li><label class='ee-shut'>0: \"discrete_classification\", unsigned int8, EPSG:3857, 400750x240450 px<input type='checkbox' class='ee-toggle'></label><ul><li><span class='ee-k'>id:</span><span class='ee-v'>discrete_classification</span></li><li><span class='ee-k'>crs:</span><span class='ee-v'>EPSG:3857</span></li><li><label class='ee-shut'>crs_transform: [100, 0, -20037550, 0, -100, 15538800]<input type='checkbox' class='ee-toggle'></label><ul><li><span class='ee-k'>0:</span><span class='ee-v'>100</span></li><li><span class='ee-k'>1:</span><span class='ee-v'>0</span></li><li><span class='ee-k'>2:</span><span class='ee-v'>-20037550</span></li><li><span class='ee-k'>3:</span><span class='ee-v'>0</span></li><li><span class='ee-k'>4:</span><span class='ee-v'>-100</span></li><li><span class='ee-k'>5:</span><span class='ee-v'>15538800</span></li></ul></li><li><label class='ee-shut'>data_type: unsigned int8<input type='checkbox' class='ee-toggle'></label><ul><li><span class='ee-k'>type:</span><span class='ee-v'>PixelType</span></li><li><span class='ee-k'>max:</span><span class='ee-v'>255</span></li><li><span class='ee-k'>min:</span><span class='ee-v'>0</span></li><li><span class='ee-k'>precision:</span><span class='ee-v'>int</span></li></ul></li><li><label class='ee-shut'>dimensions: [400750, 240450]<input type='checkbox' class='ee-toggle'></label><ul><li><span class='ee-k'>0:</span><span class='ee-v'>400750</span></li><li><span class='ee-k'>1:</span><span class='ee-v'>240450</span></li></ul></li></ul></li></ul></li><li><label class='ee-shut'>properties: Object (11 properties)<input type='checkbox' class='ee-toggle'></label><ul><li><label class='ee-shut'>discrete_classification_class_names: List (23 elements)<input type='checkbox' class='ee-toggle'></label><ul><li><span class='ee-k'>0:</span><span class='ee-v'>Unknown. No or not enough satellite data available.</span></li><li><span class='ee-k'>1:</span><span class='ee-v'>Shrubs. Woody perennial plants with persistent and woody stems\n",
       "and without any defined main stem being less than 5 m tall. The\n",
       "shrub foliage can be either evergreen or deciduous.\n",
       "</span></li><li><span class='ee-k'>2:</span><span class='ee-v'>Herbaceous vegetation. Plants without persistent stem or shoots above ground\n",
       "and lacking definite firm structure. Tree and shrub cover is less\n",
       "than 10 %.\n",
       "</span></li><li><span class='ee-k'>3:</span><span class='ee-v'>Cultivated and managed vegetation / agriculture. Lands covered with temporary crops followed by harvest\n",
       "and a bare soil period (e.g., single and multiple cropping systems).\n",
       "Note that perennial woody crops will be classified as the appropriate\n",
       "forest or shrub land cover type.\n",
       "</span></li><li><span class='ee-k'>4:</span><span class='ee-v'>Urban / built up. Land covered by buildings and other man-made structures.</span></li><li><span class='ee-k'>5:</span><span class='ee-v'>Bare / sparse vegetation. Lands with exposed soil, sand, or rocks and never has\n",
       "more than 10 % vegetated cover during any time of the year.\n",
       "</span></li><li><span class='ee-k'>6:</span><span class='ee-v'>Snow and ice. Lands under snow or ice cover throughout the year.</span></li><li><span class='ee-k'>7:</span><span class='ee-v'>Permanent water bodies. Lakes, reservoirs, and rivers. Can be either fresh or salt-water bodies.</span></li><li><span class='ee-k'>8:</span><span class='ee-v'>Herbaceous wetland. Lands with a permanent mixture of water and herbaceous\n",
       "or woody vegetation. The vegetation can be present in either salt,\n",
       "brackish, or fresh water.\n",
       "</span></li><li><span class='ee-k'>9:</span><span class='ee-v'>Moss and lichen.</span></li><li><span class='ee-k'>10:</span><span class='ee-v'>Closed forest, evergreen needle leaf. Tree canopy >70 %, almost all needle leaf trees remain\n",
       "green all year. Canopy is never without green foliage.\n",
       "</span></li><li><span class='ee-k'>11:</span><span class='ee-v'>Closed forest, evergreen broad leaf. Tree canopy >70 %, almost all broadleaf trees remain\n",
       "green year round. Canopy is never without green foliage.\n",
       "</span></li><li><span class='ee-k'>12:</span><span class='ee-v'>Closed forest, deciduous needle leaf. Tree canopy >70 %, consists of seasonal needle leaf\n",
       "tree communities with an annual cycle of leaf-on and leaf-off\n",
       "periods.\n",
       "</span></li><li><span class='ee-k'>13:</span><span class='ee-v'>Closed forest, deciduous broad leaf. Tree canopy >70 %, consists of seasonal broadleaf\n",
       "tree communities with an annual cycle of leaf-on and leaf-off periods.\n",
       "</span></li><li><span class='ee-k'>14:</span><span class='ee-v'>Closed forest, mixed.</span></li><li><span class='ee-k'>15:</span><span class='ee-v'>Closed forest, not matching any of the other definitions.</span></li><li><span class='ee-k'>16:</span><span class='ee-v'>Open forest, evergreen needle leaf. Top layer- trees 15-70 % and second layer- mixed of shrubs\n",
       "and grassland, almost all needle leaf trees remain green all year.\n",
       "Canopy is never without green foliage.\n",
       "</span></li><li><span class='ee-k'>17:</span><span class='ee-v'>Open forest, evergreen broad leaf. Top layer- trees 15-70 % and second layer- mixed of shrubs\n",
       "and grassland, almost all broadleaf trees remain green year round.\n",
       "Canopy is never without green foliage.\n",
       "</span></li><li><span class='ee-k'>18:</span><span class='ee-v'>Open forest, deciduous needle leaf. Top layer- trees 15-70 % and second layer- mixed of shrubs\n",
       "and grassland, consists of seasonal needle leaf tree communities with\n",
       "an annual cycle of leaf-on and leaf-off periods.\n",
       "</span></li><li><span class='ee-k'>19:</span><span class='ee-v'>Open forest, deciduous broad leaf. Top layer- trees 15-70 % and second layer- mixed of shrubs\n",
       "and grassland, consists of seasonal broadleaf tree communities with\n",
       "an annual cycle of leaf-on and leaf-off periods.\n",
       "</span></li><li><span class='ee-k'>20:</span><span class='ee-v'>Open forest, mixed.</span></li><li><span class='ee-k'>21:</span><span class='ee-v'>Open forest, not matching any of the other definitions.</span></li><li><span class='ee-k'>22:</span><span class='ee-v'>Oceans, seas. Can be either fresh or salt-water bodies.</span></li></ul></li><li><label class='ee-shut'>discrete_classification_class_palette: List (23 elements)<input type='checkbox' class='ee-toggle'></label><ul><li><span class='ee-k'>0:</span><span class='ee-v'>282828</span></li><li><span class='ee-k'>1:</span><span class='ee-v'>ffbb22</span></li><li><span class='ee-k'>2:</span><span class='ee-v'>ffff4c</span></li><li><span class='ee-k'>3:</span><span class='ee-v'>f096ff</span></li><li><span class='ee-k'>4:</span><span class='ee-v'>fa0000</span></li><li><span class='ee-k'>5:</span><span class='ee-v'>b4b4b4</span></li><li><span class='ee-k'>6:</span><span class='ee-v'>f0f0f0</span></li><li><span class='ee-k'>7:</span><span class='ee-v'>0032c8</span></li><li><span class='ee-k'>8:</span><span class='ee-v'>0096a0</span></li><li><span class='ee-k'>9:</span><span class='ee-v'>fae6a0</span></li><li><span class='ee-k'>10:</span><span class='ee-v'>58481f</span></li><li><span class='ee-k'>11:</span><span class='ee-v'>009900</span></li><li><span class='ee-k'>12:</span><span class='ee-v'>70663e</span></li><li><span class='ee-k'>13:</span><span class='ee-v'>00cc00</span></li><li><span class='ee-k'>14:</span><span class='ee-v'>4e751f</span></li><li><span class='ee-k'>15:</span><span class='ee-v'>007800</span></li><li><span class='ee-k'>16:</span><span class='ee-v'>666000</span></li><li><span class='ee-k'>17:</span><span class='ee-v'>8db400</span></li><li><span class='ee-k'>18:</span><span class='ee-v'>8d7400</span></li><li><span class='ee-k'>19:</span><span class='ee-v'>a0dc00</span></li><li><span class='ee-k'>20:</span><span class='ee-v'>929900</span></li><li><span class='ee-k'>21:</span><span class='ee-v'>648c00</span></li><li><span class='ee-k'>22:</span><span class='ee-v'>000080</span></li></ul></li><li><label class='ee-shut'>discrete_classification_class_values: List (23 elements)<input type='checkbox' class='ee-toggle'></label><ul><li><span class='ee-k'>0:</span><span class='ee-v'>0</span></li><li><span class='ee-k'>1:</span><span class='ee-v'>20</span></li><li><span class='ee-k'>2:</span><span class='ee-v'>30</span></li><li><span class='ee-k'>3:</span><span class='ee-v'>40</span></li><li><span class='ee-k'>4:</span><span class='ee-v'>50</span></li><li><span class='ee-k'>5:</span><span class='ee-v'>60</span></li><li><span class='ee-k'>6:</span><span class='ee-v'>70</span></li><li><span class='ee-k'>7:</span><span class='ee-v'>80</span></li><li><span class='ee-k'>8:</span><span class='ee-v'>90</span></li><li><span class='ee-k'>9:</span><span class='ee-v'>100</span></li><li><span class='ee-k'>10:</span><span class='ee-v'>111</span></li><li><span class='ee-k'>11:</span><span class='ee-v'>112</span></li><li><span class='ee-k'>12:</span><span class='ee-v'>113</span></li><li><span class='ee-k'>13:</span><span class='ee-v'>114</span></li><li><span class='ee-k'>14:</span><span class='ee-v'>115</span></li><li><span class='ee-k'>15:</span><span class='ee-v'>116</span></li><li><span class='ee-k'>16:</span><span class='ee-v'>121</span></li><li><span class='ee-k'>17:</span><span class='ee-v'>122</span></li><li><span class='ee-k'>18:</span><span class='ee-v'>123</span></li><li><span class='ee-k'>19:</span><span class='ee-v'>124</span></li><li><span class='ee-k'>20:</span><span class='ee-v'>125</span></li><li><span class='ee-k'>21:</span><span class='ee-v'>126</span></li><li><span class='ee-k'>22:</span><span class='ee-v'>200</span></li></ul></li><li><label class='ee-shut'>forest_type_class_names: List (6 elements)<input type='checkbox' class='ee-toggle'></label><ul><li><span class='ee-k'>0:</span><span class='ee-v'>Unknown</span></li><li><span class='ee-k'>1:</span><span class='ee-v'>Evergreen needle leaf</span></li><li><span class='ee-k'>2:</span><span class='ee-v'>Evergreen broad leaf</span></li><li><span class='ee-k'>3:</span><span class='ee-v'>Deciduous needle leaf</span></li><li><span class='ee-k'>4:</span><span class='ee-v'>Deciduous broad leaf</span></li><li><span class='ee-k'>5:</span><span class='ee-v'>Mix of forest types</span></li></ul></li><li><label class='ee-shut'>forest_type_class_palette: List (6 elements)<input type='checkbox' class='ee-toggle'></label><ul><li><span class='ee-k'>0:</span><span class='ee-v'>282828</span></li><li><span class='ee-k'>1:</span><span class='ee-v'>666000</span></li><li><span class='ee-k'>2:</span><span class='ee-v'>009900</span></li><li><span class='ee-k'>3:</span><span class='ee-v'>70663e</span></li><li><span class='ee-k'>4:</span><span class='ee-v'>a0dc00</span></li><li><span class='ee-k'>5:</span><span class='ee-v'>929900</span></li></ul></li><li><label class='ee-shut'>forest_type_class_values: [0, 1, 2, 3, 4, 5]<input type='checkbox' class='ee-toggle'></label><ul><li><span class='ee-k'>0:</span><span class='ee-v'>0</span></li><li><span class='ee-k'>1:</span><span class='ee-v'>1</span></li><li><span class='ee-k'>2:</span><span class='ee-v'>2</span></li><li><span class='ee-k'>3:</span><span class='ee-v'>3</span></li><li><span class='ee-k'>4:</span><span class='ee-v'>4</span></li><li><span class='ee-k'>5:</span><span class='ee-v'>5</span></li></ul></li><li><span class='ee-k'>system:asset_size:</span><span class='ee-v'>84728363000</span></li><li><label class='ee-shut'>system:footprint: LinearRing (5 vertices)<input type='checkbox' class='ee-toggle'></label><ul><li><span class='ee-k'>type:</span><span class='ee-v'>LinearRing</span></li><li><label class='ee-shut'>coordinates: List (5 elements)<input type='checkbox' class='ee-toggle'></label><ul><li><label class='ee-shut'>0: [-180, -90]<input type='checkbox' class='ee-toggle'></label><ul><li><span class='ee-k'>0:</span><span class='ee-v'>-180</span></li><li><span class='ee-k'>1:</span><span class='ee-v'>-90</span></li></ul></li><li><label class='ee-shut'>1: [180, -90]<input type='checkbox' class='ee-toggle'></label><ul><li><span class='ee-k'>0:</span><span class='ee-v'>180</span></li><li><span class='ee-k'>1:</span><span class='ee-v'>-90</span></li></ul></li><li><label class='ee-shut'>2: [180, 90]<input type='checkbox' class='ee-toggle'></label><ul><li><span class='ee-k'>0:</span><span class='ee-v'>180</span></li><li><span class='ee-k'>1:</span><span class='ee-v'>90</span></li></ul></li><li><label class='ee-shut'>3: [-180, 90]<input type='checkbox' class='ee-toggle'></label><ul><li><span class='ee-k'>0:</span><span class='ee-v'>-180</span></li><li><span class='ee-k'>1:</span><span class='ee-v'>90</span></li></ul></li><li><label class='ee-shut'>4: [-180, -90]<input type='checkbox' class='ee-toggle'></label><ul><li><span class='ee-k'>0:</span><span class='ee-v'>-180</span></li><li><span class='ee-k'>1:</span><span class='ee-v'>-90</span></li></ul></li></ul></li></ul></li><li><span class='ee-k'>system:index:</span><span class='ee-v'>2019</span></li><li><span class='ee-k'>system:time_end:</span><span class='ee-v'>1577836800000</span></li><li><span class='ee-k'>system:time_start:</span><span class='ee-v'>1546300800000</span></li></ul></li></ul></li></ul></div><script>function toggleHeader() {\n",
       "    const parent = this.parentElement;\n",
       "    parent.className = parent.className === \"ee-open\" ? \"ee-shut\" : \"ee-open\";\n",
       "}\n",
       "\n",
       "for (let c of document.getElementsByClassName(\"ee-toggle\")) {\n",
       "    c.onclick = toggleHeader;\n",
       "}</script></div>"
      ],
      "text/plain": [
       "<ee.image.Image at 0x172c78290>"
      ]
     },
     "execution_count": 49,
     "metadata": {},
     "output_type": "execute_result"
    }
   ],
   "source": [
    "land_cover_collection = ee.Image(\n",
    "    \"COPERNICUS/Landcover/100m/Proba-V-C3/Global/2019\"\n",
    ").select(\"discrete_classification\")\n",
    "land_cover_collection"
   ]
  },
  {
   "cell_type": "code",
   "execution_count": 48,
   "metadata": {},
   "outputs": [
    {
     "data": {
      "text/html": [
       "\n",
       "            <style>\n",
       "                .geemap-dark {\n",
       "                    --jp-widgets-color: white;\n",
       "                    --jp-widgets-label-color: white;\n",
       "                    --jp-ui-font-color1: white;\n",
       "                    --jp-layout-color2: #454545;\n",
       "                    background-color: #383838;\n",
       "                }\n",
       "\n",
       "                .geemap-dark .jupyter-button {\n",
       "                    --jp-layout-color3: #383838;\n",
       "                }\n",
       "\n",
       "                .geemap-colab {\n",
       "                    background-color: var(--colab-primary-surface-color, white);\n",
       "                }\n",
       "\n",
       "                .geemap-colab .jupyter-button {\n",
       "                    --jp-layout-color3: var(--colab-primary-surface-color, white);\n",
       "                }\n",
       "            </style>\n",
       "            "
      ],
      "text/plain": [
       "<IPython.core.display.HTML object>"
      ]
     },
     "metadata": {},
     "output_type": "display_data"
    },
    {
     "data": {
      "text/html": [
       "<div><style>:root {\n",
       "  --font-color-primary: var(--jp-content-font-color0, rgba(0, 0, 0, 1));\n",
       "  --font-color-secondary: var(--jp-content-font-color2, rgba(0, 0, 0, 0.6));\n",
       "  --font-color-accent: rgba(123, 31, 162, 1);\n",
       "  --border-color: var(--jp-border-color2, #e0e0e0);\n",
       "  --background-color: var(--jp-layout-color0, white);\n",
       "  --background-color-row-even: var(--jp-layout-color1, white);\n",
       "  --background-color-row-odd: var(--jp-layout-color2, #eeeeee);\n",
       "}\n",
       "\n",
       "html[theme=\"dark\"],\n",
       "body[data-theme=\"dark\"],\n",
       "body.vscode-dark {\n",
       "  --font-color-primary: rgba(255, 255, 255, 1);\n",
       "  --font-color-secondary: rgba(255, 255, 255, 0.6);\n",
       "  --font-color-accent: rgb(173, 132, 190);\n",
       "  --border-color: #2e2e2e;\n",
       "  --background-color: #111111;\n",
       "  --background-color-row-even: #111111;\n",
       "  --background-color-row-odd: #313131;\n",
       "}\n",
       "\n",
       ".ee {\n",
       "  padding: 1em;\n",
       "  line-height: 1.5em;\n",
       "  min-width: 300px;\n",
       "  max-width: 1200px;\n",
       "  overflow-y: scroll;\n",
       "  max-height: 600px;\n",
       "  border: 1px solid var(--border-color);\n",
       "  font-family: monospace;\n",
       "}\n",
       "\n",
       ".ee li {\n",
       "  list-style-type: none;\n",
       "}\n",
       "\n",
       ".ee ul {\n",
       "  padding-left: 1.5em !important;\n",
       "  margin: 0;\n",
       "}\n",
       "\n",
       ".ee > ul {\n",
       "  padding-left: 0 !important;\n",
       "}\n",
       "\n",
       ".ee-open,\n",
       ".ee-shut {\n",
       "  color: var(--font-color-secondary);\n",
       "  cursor: pointer;\n",
       "  margin: 0;\n",
       "}\n",
       "\n",
       ".ee-open:hover,\n",
       ".ee-shut:hover {\n",
       "  color: var(--font-color-primary);\n",
       "}\n",
       "\n",
       ".ee-k {\n",
       "  color: var(--font-color-accent);\n",
       "  margin-right: 6px;\n",
       "}\n",
       "\n",
       ".ee-v {\n",
       "  color: var(--font-color-primary);\n",
       "}\n",
       "\n",
       ".ee-toggle {\n",
       "  display: none;\n",
       "}\n",
       "\n",
       ".ee-shut + ul {\n",
       "  display: none;\n",
       "}\n",
       "\n",
       ".ee-open + ul {\n",
       "  display: block;\n",
       "}\n",
       "\n",
       ".ee-shut::before {\n",
       "  display: inline-block;\n",
       "  content: \"▼\";\n",
       "  margin-right: 6px;\n",
       "  transform: rotate(-90deg);\n",
       "  transition: transform 0.2s;\n",
       "}\n",
       "\n",
       ".ee-open::before {\n",
       "  transform: rotate(0deg);\n",
       "  display: inline-block;\n",
       "  content: \"▼\";\n",
       "  margin-right: 6px;\n",
       "  transition: transform 0.2s;\n",
       "}\n",
       "</style><div class='ee'><ul><li><label class='ee-shut'>Image COPERNICUS/Landcover/100m/Proba-V-C3/Global/2019 (1 band)<input type='checkbox' class='ee-toggle'></label><ul><li><span class='ee-k'>type:</span><span class='ee-v'>Image</span></li><li><span class='ee-k'>id:</span><span class='ee-v'>COPERNICUS/Landcover/100m/Proba-V-C3/Global/2019</span></li><li><span class='ee-k'>version:</span><span class='ee-v'>1685078284447716</span></li><li><label class='ee-shut'>bands: List (1 element)<input type='checkbox' class='ee-toggle'></label><ul><li><label class='ee-shut'>0: \"forest_type\", unsigned int8, EPSG:3857, 400750x240450 px<input type='checkbox' class='ee-toggle'></label><ul><li><span class='ee-k'>id:</span><span class='ee-v'>forest_type</span></li><li><span class='ee-k'>crs:</span><span class='ee-v'>EPSG:3857</span></li><li><label class='ee-shut'>crs_transform: [100, 0, -20037550, 0, -100, 15538800]<input type='checkbox' class='ee-toggle'></label><ul><li><span class='ee-k'>0:</span><span class='ee-v'>100</span></li><li><span class='ee-k'>1:</span><span class='ee-v'>0</span></li><li><span class='ee-k'>2:</span><span class='ee-v'>-20037550</span></li><li><span class='ee-k'>3:</span><span class='ee-v'>0</span></li><li><span class='ee-k'>4:</span><span class='ee-v'>-100</span></li><li><span class='ee-k'>5:</span><span class='ee-v'>15538800</span></li></ul></li><li><label class='ee-shut'>data_type: unsigned int8<input type='checkbox' class='ee-toggle'></label><ul><li><span class='ee-k'>type:</span><span class='ee-v'>PixelType</span></li><li><span class='ee-k'>max:</span><span class='ee-v'>255</span></li><li><span class='ee-k'>min:</span><span class='ee-v'>0</span></li><li><span class='ee-k'>precision:</span><span class='ee-v'>int</span></li></ul></li><li><label class='ee-shut'>dimensions: [400750, 240450]<input type='checkbox' class='ee-toggle'></label><ul><li><span class='ee-k'>0:</span><span class='ee-v'>400750</span></li><li><span class='ee-k'>1:</span><span class='ee-v'>240450</span></li></ul></li></ul></li></ul></li><li><label class='ee-shut'>properties: Object (11 properties)<input type='checkbox' class='ee-toggle'></label><ul><li><label class='ee-shut'>discrete_classification_class_names: List (23 elements)<input type='checkbox' class='ee-toggle'></label><ul><li><span class='ee-k'>0:</span><span class='ee-v'>Unknown. No or not enough satellite data available.</span></li><li><span class='ee-k'>1:</span><span class='ee-v'>Shrubs. Woody perennial plants with persistent and woody stems\n",
       "and without any defined main stem being less than 5 m tall. The\n",
       "shrub foliage can be either evergreen or deciduous.\n",
       "</span></li><li><span class='ee-k'>2:</span><span class='ee-v'>Herbaceous vegetation. Plants without persistent stem or shoots above ground\n",
       "and lacking definite firm structure. Tree and shrub cover is less\n",
       "than 10 %.\n",
       "</span></li><li><span class='ee-k'>3:</span><span class='ee-v'>Cultivated and managed vegetation / agriculture. Lands covered with temporary crops followed by harvest\n",
       "and a bare soil period (e.g., single and multiple cropping systems).\n",
       "Note that perennial woody crops will be classified as the appropriate\n",
       "forest or shrub land cover type.\n",
       "</span></li><li><span class='ee-k'>4:</span><span class='ee-v'>Urban / built up. Land covered by buildings and other man-made structures.</span></li><li><span class='ee-k'>5:</span><span class='ee-v'>Bare / sparse vegetation. Lands with exposed soil, sand, or rocks and never has\n",
       "more than 10 % vegetated cover during any time of the year.\n",
       "</span></li><li><span class='ee-k'>6:</span><span class='ee-v'>Snow and ice. Lands under snow or ice cover throughout the year.</span></li><li><span class='ee-k'>7:</span><span class='ee-v'>Permanent water bodies. Lakes, reservoirs, and rivers. Can be either fresh or salt-water bodies.</span></li><li><span class='ee-k'>8:</span><span class='ee-v'>Herbaceous wetland. Lands with a permanent mixture of water and herbaceous\n",
       "or woody vegetation. The vegetation can be present in either salt,\n",
       "brackish, or fresh water.\n",
       "</span></li><li><span class='ee-k'>9:</span><span class='ee-v'>Moss and lichen.</span></li><li><span class='ee-k'>10:</span><span class='ee-v'>Closed forest, evergreen needle leaf. Tree canopy >70 %, almost all needle leaf trees remain\n",
       "green all year. Canopy is never without green foliage.\n",
       "</span></li><li><span class='ee-k'>11:</span><span class='ee-v'>Closed forest, evergreen broad leaf. Tree canopy >70 %, almost all broadleaf trees remain\n",
       "green year round. Canopy is never without green foliage.\n",
       "</span></li><li><span class='ee-k'>12:</span><span class='ee-v'>Closed forest, deciduous needle leaf. Tree canopy >70 %, consists of seasonal needle leaf\n",
       "tree communities with an annual cycle of leaf-on and leaf-off\n",
       "periods.\n",
       "</span></li><li><span class='ee-k'>13:</span><span class='ee-v'>Closed forest, deciduous broad leaf. Tree canopy >70 %, consists of seasonal broadleaf\n",
       "tree communities with an annual cycle of leaf-on and leaf-off periods.\n",
       "</span></li><li><span class='ee-k'>14:</span><span class='ee-v'>Closed forest, mixed.</span></li><li><span class='ee-k'>15:</span><span class='ee-v'>Closed forest, not matching any of the other definitions.</span></li><li><span class='ee-k'>16:</span><span class='ee-v'>Open forest, evergreen needle leaf. Top layer- trees 15-70 % and second layer- mixed of shrubs\n",
       "and grassland, almost all needle leaf trees remain green all year.\n",
       "Canopy is never without green foliage.\n",
       "</span></li><li><span class='ee-k'>17:</span><span class='ee-v'>Open forest, evergreen broad leaf. Top layer- trees 15-70 % and second layer- mixed of shrubs\n",
       "and grassland, almost all broadleaf trees remain green year round.\n",
       "Canopy is never without green foliage.\n",
       "</span></li><li><span class='ee-k'>18:</span><span class='ee-v'>Open forest, deciduous needle leaf. Top layer- trees 15-70 % and second layer- mixed of shrubs\n",
       "and grassland, consists of seasonal needle leaf tree communities with\n",
       "an annual cycle of leaf-on and leaf-off periods.\n",
       "</span></li><li><span class='ee-k'>19:</span><span class='ee-v'>Open forest, deciduous broad leaf. Top layer- trees 15-70 % and second layer- mixed of shrubs\n",
       "and grassland, consists of seasonal broadleaf tree communities with\n",
       "an annual cycle of leaf-on and leaf-off periods.\n",
       "</span></li><li><span class='ee-k'>20:</span><span class='ee-v'>Open forest, mixed.</span></li><li><span class='ee-k'>21:</span><span class='ee-v'>Open forest, not matching any of the other definitions.</span></li><li><span class='ee-k'>22:</span><span class='ee-v'>Oceans, seas. Can be either fresh or salt-water bodies.</span></li></ul></li><li><label class='ee-shut'>discrete_classification_class_palette: List (23 elements)<input type='checkbox' class='ee-toggle'></label><ul><li><span class='ee-k'>0:</span><span class='ee-v'>282828</span></li><li><span class='ee-k'>1:</span><span class='ee-v'>ffbb22</span></li><li><span class='ee-k'>2:</span><span class='ee-v'>ffff4c</span></li><li><span class='ee-k'>3:</span><span class='ee-v'>f096ff</span></li><li><span class='ee-k'>4:</span><span class='ee-v'>fa0000</span></li><li><span class='ee-k'>5:</span><span class='ee-v'>b4b4b4</span></li><li><span class='ee-k'>6:</span><span class='ee-v'>f0f0f0</span></li><li><span class='ee-k'>7:</span><span class='ee-v'>0032c8</span></li><li><span class='ee-k'>8:</span><span class='ee-v'>0096a0</span></li><li><span class='ee-k'>9:</span><span class='ee-v'>fae6a0</span></li><li><span class='ee-k'>10:</span><span class='ee-v'>58481f</span></li><li><span class='ee-k'>11:</span><span class='ee-v'>009900</span></li><li><span class='ee-k'>12:</span><span class='ee-v'>70663e</span></li><li><span class='ee-k'>13:</span><span class='ee-v'>00cc00</span></li><li><span class='ee-k'>14:</span><span class='ee-v'>4e751f</span></li><li><span class='ee-k'>15:</span><span class='ee-v'>007800</span></li><li><span class='ee-k'>16:</span><span class='ee-v'>666000</span></li><li><span class='ee-k'>17:</span><span class='ee-v'>8db400</span></li><li><span class='ee-k'>18:</span><span class='ee-v'>8d7400</span></li><li><span class='ee-k'>19:</span><span class='ee-v'>a0dc00</span></li><li><span class='ee-k'>20:</span><span class='ee-v'>929900</span></li><li><span class='ee-k'>21:</span><span class='ee-v'>648c00</span></li><li><span class='ee-k'>22:</span><span class='ee-v'>000080</span></li></ul></li><li><label class='ee-shut'>discrete_classification_class_values: List (23 elements)<input type='checkbox' class='ee-toggle'></label><ul><li><span class='ee-k'>0:</span><span class='ee-v'>0</span></li><li><span class='ee-k'>1:</span><span class='ee-v'>20</span></li><li><span class='ee-k'>2:</span><span class='ee-v'>30</span></li><li><span class='ee-k'>3:</span><span class='ee-v'>40</span></li><li><span class='ee-k'>4:</span><span class='ee-v'>50</span></li><li><span class='ee-k'>5:</span><span class='ee-v'>60</span></li><li><span class='ee-k'>6:</span><span class='ee-v'>70</span></li><li><span class='ee-k'>7:</span><span class='ee-v'>80</span></li><li><span class='ee-k'>8:</span><span class='ee-v'>90</span></li><li><span class='ee-k'>9:</span><span class='ee-v'>100</span></li><li><span class='ee-k'>10:</span><span class='ee-v'>111</span></li><li><span class='ee-k'>11:</span><span class='ee-v'>112</span></li><li><span class='ee-k'>12:</span><span class='ee-v'>113</span></li><li><span class='ee-k'>13:</span><span class='ee-v'>114</span></li><li><span class='ee-k'>14:</span><span class='ee-v'>115</span></li><li><span class='ee-k'>15:</span><span class='ee-v'>116</span></li><li><span class='ee-k'>16:</span><span class='ee-v'>121</span></li><li><span class='ee-k'>17:</span><span class='ee-v'>122</span></li><li><span class='ee-k'>18:</span><span class='ee-v'>123</span></li><li><span class='ee-k'>19:</span><span class='ee-v'>124</span></li><li><span class='ee-k'>20:</span><span class='ee-v'>125</span></li><li><span class='ee-k'>21:</span><span class='ee-v'>126</span></li><li><span class='ee-k'>22:</span><span class='ee-v'>200</span></li></ul></li><li><label class='ee-shut'>forest_type_class_names: List (6 elements)<input type='checkbox' class='ee-toggle'></label><ul><li><span class='ee-k'>0:</span><span class='ee-v'>Unknown</span></li><li><span class='ee-k'>1:</span><span class='ee-v'>Evergreen needle leaf</span></li><li><span class='ee-k'>2:</span><span class='ee-v'>Evergreen broad leaf</span></li><li><span class='ee-k'>3:</span><span class='ee-v'>Deciduous needle leaf</span></li><li><span class='ee-k'>4:</span><span class='ee-v'>Deciduous broad leaf</span></li><li><span class='ee-k'>5:</span><span class='ee-v'>Mix of forest types</span></li></ul></li><li><label class='ee-shut'>forest_type_class_palette: List (6 elements)<input type='checkbox' class='ee-toggle'></label><ul><li><span class='ee-k'>0:</span><span class='ee-v'>282828</span></li><li><span class='ee-k'>1:</span><span class='ee-v'>666000</span></li><li><span class='ee-k'>2:</span><span class='ee-v'>009900</span></li><li><span class='ee-k'>3:</span><span class='ee-v'>70663e</span></li><li><span class='ee-k'>4:</span><span class='ee-v'>a0dc00</span></li><li><span class='ee-k'>5:</span><span class='ee-v'>929900</span></li></ul></li><li><label class='ee-shut'>forest_type_class_values: [0, 1, 2, 3, 4, 5]<input type='checkbox' class='ee-toggle'></label><ul><li><span class='ee-k'>0:</span><span class='ee-v'>0</span></li><li><span class='ee-k'>1:</span><span class='ee-v'>1</span></li><li><span class='ee-k'>2:</span><span class='ee-v'>2</span></li><li><span class='ee-k'>3:</span><span class='ee-v'>3</span></li><li><span class='ee-k'>4:</span><span class='ee-v'>4</span></li><li><span class='ee-k'>5:</span><span class='ee-v'>5</span></li></ul></li><li><span class='ee-k'>system:asset_size:</span><span class='ee-v'>84728363000</span></li><li><label class='ee-shut'>system:footprint: LinearRing (5 vertices)<input type='checkbox' class='ee-toggle'></label><ul><li><span class='ee-k'>type:</span><span class='ee-v'>LinearRing</span></li><li><label class='ee-shut'>coordinates: List (5 elements)<input type='checkbox' class='ee-toggle'></label><ul><li><label class='ee-shut'>0: [-180, -90]<input type='checkbox' class='ee-toggle'></label><ul><li><span class='ee-k'>0:</span><span class='ee-v'>-180</span></li><li><span class='ee-k'>1:</span><span class='ee-v'>-90</span></li></ul></li><li><label class='ee-shut'>1: [180, -90]<input type='checkbox' class='ee-toggle'></label><ul><li><span class='ee-k'>0:</span><span class='ee-v'>180</span></li><li><span class='ee-k'>1:</span><span class='ee-v'>-90</span></li></ul></li><li><label class='ee-shut'>2: [180, 90]<input type='checkbox' class='ee-toggle'></label><ul><li><span class='ee-k'>0:</span><span class='ee-v'>180</span></li><li><span class='ee-k'>1:</span><span class='ee-v'>90</span></li></ul></li><li><label class='ee-shut'>3: [-180, 90]<input type='checkbox' class='ee-toggle'></label><ul><li><span class='ee-k'>0:</span><span class='ee-v'>-180</span></li><li><span class='ee-k'>1:</span><span class='ee-v'>90</span></li></ul></li><li><label class='ee-shut'>4: [-180, -90]<input type='checkbox' class='ee-toggle'></label><ul><li><span class='ee-k'>0:</span><span class='ee-v'>-180</span></li><li><span class='ee-k'>1:</span><span class='ee-v'>-90</span></li></ul></li></ul></li></ul></li><li><span class='ee-k'>system:index:</span><span class='ee-v'>2019</span></li><li><span class='ee-k'>system:time_end:</span><span class='ee-v'>1577836800000</span></li><li><span class='ee-k'>system:time_start:</span><span class='ee-v'>1546300800000</span></li></ul></li></ul></li></ul></div><script>function toggleHeader() {\n",
       "    const parent = this.parentElement;\n",
       "    parent.className = parent.className === \"ee-open\" ? \"ee-shut\" : \"ee-open\";\n",
       "}\n",
       "\n",
       "for (let c of document.getElementsByClassName(\"ee-toggle\")) {\n",
       "    c.onclick = toggleHeader;\n",
       "}</script></div>"
      ],
      "text/plain": [
       "<ee.image.Image at 0x1760b01a0>"
      ]
     },
     "execution_count": 48,
     "metadata": {},
     "output_type": "execute_result"
    }
   ],
   "source": [
    "forest_type = ee.Image(\"COPERNICUS/Landcover/100m/Proba-V-C3/Global/2019\").select(\n",
    "    \"forest_type\"\n",
    ")\n",
    "forest_type"
   ]
  },
  {
   "cell_type": "code",
   "execution_count": 50,
   "metadata": {},
   "outputs": [
    {
     "data": {
      "text/html": [
       "\n",
       "            <style>\n",
       "                .geemap-dark {\n",
       "                    --jp-widgets-color: white;\n",
       "                    --jp-widgets-label-color: white;\n",
       "                    --jp-ui-font-color1: white;\n",
       "                    --jp-layout-color2: #454545;\n",
       "                    background-color: #383838;\n",
       "                }\n",
       "\n",
       "                .geemap-dark .jupyter-button {\n",
       "                    --jp-layout-color3: #383838;\n",
       "                }\n",
       "\n",
       "                .geemap-colab {\n",
       "                    background-color: var(--colab-primary-surface-color, white);\n",
       "                }\n",
       "\n",
       "                .geemap-colab .jupyter-button {\n",
       "                    --jp-layout-color3: var(--colab-primary-surface-color, white);\n",
       "                }\n",
       "            </style>\n",
       "            "
      ],
      "text/plain": [
       "<IPython.core.display.HTML object>"
      ]
     },
     "metadata": {},
     "output_type": "display_data"
    }
   ],
   "source": [
    "cgls_clip = land_cover_collection.clip(project_fc)\n",
    "forest_type_clip = forest_type.clip(project_fc)"
   ]
  },
  {
   "cell_type": "code",
   "execution_count": 61,
   "metadata": {},
   "outputs": [
    {
     "data": {
      "text/html": [
       "\n",
       "            <style>\n",
       "                .geemap-dark {\n",
       "                    --jp-widgets-color: white;\n",
       "                    --jp-widgets-label-color: white;\n",
       "                    --jp-ui-font-color1: white;\n",
       "                    --jp-layout-color2: #454545;\n",
       "                    background-color: #383838;\n",
       "                }\n",
       "\n",
       "                .geemap-dark .jupyter-button {\n",
       "                    --jp-layout-color3: #383838;\n",
       "                }\n",
       "\n",
       "                .geemap-colab {\n",
       "                    background-color: var(--colab-primary-surface-color, white);\n",
       "                }\n",
       "\n",
       "                .geemap-colab .jupyter-button {\n",
       "                    --jp-layout-color3: var(--colab-primary-surface-color, white);\n",
       "                }\n",
       "            </style>\n",
       "            "
      ],
      "text/plain": [
       "<IPython.core.display.HTML object>"
      ]
     },
     "metadata": {},
     "output_type": "display_data"
    }
   ],
   "source": [
    "legend_dict = {\n",
    "    # \"0 Unknown\": \"282828\",\n",
    "    \"20 Shrubs\": \"ffbb22\",\n",
    "    \"30 Herbaceous Vegetation\": \"ffff4c\",\n",
    "    \"40 Cultivated and Managed Vegetation/Agriculture\": \"f096ff\",\n",
    "    \"50 Urban/Built Up\": \"fa0000\",\n",
    "    \"60 Bare/Sparse Vegetation\": \"b4b4b4\",\n",
    "    # \"70 Snow and Ice\": \"f0f0f0\",\n",
    "    \"80 Permanent Water Bodies\": \"0032c8\",\n",
    "    \"90 Herbaceous Wetland\": \"0096a0\",\n",
    "    # \"100 Moss and Lichen\": \"fae6a0\",\n",
    "    \"111 Closed Forest, Evergreen Needle Leaf\": \"58481f\",\n",
    "    \"112 Closed Forest, Evergreen Broad Leaf\": \"009900\",\n",
    "    \"113 Closed Forest, Deciduous Needle Leaf\": \"70663e\",\n",
    "    \"114 Closed Forest, Deciduous Broad Leaf\": \"00cc00\",\n",
    "    \"115 Closed Forest, Mixed\": \"4e751f\",\n",
    "    \"116 Closed Forest, Other\": \"007800\",\n",
    "    \"121 Open Forest, Evergreen Needle Leaf\": \"666000\",\n",
    "    \"122 Open Forest, Evergreen Broad Leaf\": \"8db400\",\n",
    "    \"123 Open Forest, Deciduous Needle Leaf\": \"8d7400\",\n",
    "    \"124 Open Forest, Deciduous Broad Leaf\": \"a0dc00\",\n",
    "    \"125 Open Forest, Mixed\": \"929900\",\n",
    "    \"126 Open Forest, Other\": \"648c00\",\n",
    "    # \"200 Oceans/Seas\": \"000080\"\n",
    "}"
   ]
  },
  {
   "cell_type": "code",
   "execution_count": 62,
   "metadata": {},
   "outputs": [
    {
     "data": {
      "text/html": [
       "\n",
       "            <style>\n",
       "                .geemap-dark {\n",
       "                    --jp-widgets-color: white;\n",
       "                    --jp-widgets-label-color: white;\n",
       "                    --jp-ui-font-color1: white;\n",
       "                    --jp-layout-color2: #454545;\n",
       "                    background-color: #383838;\n",
       "                }\n",
       "\n",
       "                .geemap-dark .jupyter-button {\n",
       "                    --jp-layout-color3: #383838;\n",
       "                }\n",
       "\n",
       "                .geemap-colab {\n",
       "                    background-color: var(--colab-primary-surface-color, white);\n",
       "                }\n",
       "\n",
       "                .geemap-colab .jupyter-button {\n",
       "                    --jp-layout-color3: var(--colab-primary-surface-color, white);\n",
       "                }\n",
       "            </style>\n",
       "            "
      ],
      "text/plain": [
       "<IPython.core.display.HTML object>"
      ]
     },
     "metadata": {},
     "output_type": "display_data"
    },
    {
     "data": {
      "application/vnd.jupyter.widget-view+json": {
       "model_id": "d0e32a31d25046a896cd83e1d854bc3e",
       "version_major": 2,
       "version_minor": 0
      },
      "text/plain": [
       "Map(center=[0, 0], controls=(WidgetControl(options=['position', 'transparent_bg'], widget=SearchDataGUI(childr…"
      ]
     },
     "execution_count": 62,
     "metadata": {},
     "output_type": "execute_result"
    }
   ],
   "source": [
    "p = geemap.Map()\n",
    "p.centerObject(project_fc)\n",
    "p.addLayer(cgls_clip, {}, \"Copernicus Global Land Cover Layers\")\n",
    "text = \"Made by Ilse Paniagua\"\n",
    "p.add_text(text)\n",
    "p.add_legend(title=\"\", legend_dict=legend_dict)\n",
    "p"
   ]
  },
  {
   "cell_type": "code",
   "execution_count": 74,
   "metadata": {},
   "outputs": [
    {
     "data": {
      "text/html": [
       "\n",
       "            <style>\n",
       "                .geemap-dark {\n",
       "                    --jp-widgets-color: white;\n",
       "                    --jp-widgets-label-color: white;\n",
       "                    --jp-ui-font-color1: white;\n",
       "                    --jp-layout-color2: #454545;\n",
       "                    background-color: #383838;\n",
       "                }\n",
       "\n",
       "                .geemap-dark .jupyter-button {\n",
       "                    --jp-layout-color3: #383838;\n",
       "                }\n",
       "\n",
       "                .geemap-colab {\n",
       "                    background-color: var(--colab-primary-surface-color, white);\n",
       "                }\n",
       "\n",
       "                .geemap-colab .jupyter-button {\n",
       "                    --jp-layout-color3: var(--colab-primary-surface-color, white);\n",
       "                }\n",
       "            </style>\n",
       "            "
      ],
      "text/plain": [
       "<IPython.core.display.HTML object>"
      ]
     },
     "metadata": {},
     "output_type": "display_data"
    }
   ],
   "source": [
    "def calculate_land_cover_area(image, region, scale=100):\n",
    "    # Create a dictionary to hold the area results\n",
    "    class_areas = image.reduceRegion(\n",
    "        reducer=ee.Reducer.frequencyHistogram(),\n",
    "        geometry=region,\n",
    "        scale=scale,\n",
    "        maxPixels=1e9,\n",
    "    )\n",
    "    return class_areas"
   ]
  },
  {
   "cell_type": "code",
   "execution_count": 76,
   "metadata": {},
   "outputs": [
    {
     "data": {
      "text/html": [
       "\n",
       "            <style>\n",
       "                .geemap-dark {\n",
       "                    --jp-widgets-color: white;\n",
       "                    --jp-widgets-label-color: white;\n",
       "                    --jp-ui-font-color1: white;\n",
       "                    --jp-layout-color2: #454545;\n",
       "                    background-color: #383838;\n",
       "                }\n",
       "\n",
       "                .geemap-dark .jupyter-button {\n",
       "                    --jp-layout-color3: #383838;\n",
       "                }\n",
       "\n",
       "                .geemap-colab {\n",
       "                    background-color: var(--colab-primary-surface-color, white);\n",
       "                }\n",
       "\n",
       "                .geemap-colab .jupyter-button {\n",
       "                    --jp-layout-color3: var(--colab-primary-surface-color, white);\n",
       "                }\n",
       "            </style>\n",
       "            "
      ],
      "text/plain": [
       "<IPython.core.display.HTML object>"
      ]
     },
     "metadata": {},
     "output_type": "display_data"
    }
   ],
   "source": [
    "# Get area per land cover category in the region\n",
    "class_areas = calculate_land_cover_area(cgls_clip, project_fc)\n",
    "\n",
    "# Convert to a dictionary and calculate the percentage\n",
    "area_dict = class_areas.get(\"discrete_classification\").getInfo()\n",
    "total_pixels = sum(area_dict.values())\n",
    "percentage_dict = {\n",
    "    key: (value / total_pixels) * 100 for key, value in area_dict.items()\n",
    "}"
   ]
  },
  {
   "cell_type": "code",
   "execution_count": 78,
   "metadata": {},
   "outputs": [
    {
     "data": {
      "text/html": [
       "\n",
       "            <style>\n",
       "                .geemap-dark {\n",
       "                    --jp-widgets-color: white;\n",
       "                    --jp-widgets-label-color: white;\n",
       "                    --jp-ui-font-color1: white;\n",
       "                    --jp-layout-color2: #454545;\n",
       "                    background-color: #383838;\n",
       "                }\n",
       "\n",
       "                .geemap-dark .jupyter-button {\n",
       "                    --jp-layout-color3: #383838;\n",
       "                }\n",
       "\n",
       "                .geemap-colab {\n",
       "                    background-color: var(--colab-primary-surface-color, white);\n",
       "                }\n",
       "\n",
       "                .geemap-colab .jupyter-button {\n",
       "                    --jp-layout-color3: var(--colab-primary-surface-color, white);\n",
       "                }\n",
       "            </style>\n",
       "            "
      ],
      "text/plain": [
       "<IPython.core.display.HTML object>"
      ]
     },
     "metadata": {},
     "output_type": "display_data"
    },
    {
     "data": {
      "text/plain": [
       "{'112': 60.37985138255459,\n",
       " '116': 0.6004483307490583,\n",
       " '122': 1.6499033209097502,\n",
       " '126': 7.1444635834924854,\n",
       " '20': 0.36259723975047076,\n",
       " '30': 1.0725220738492236,\n",
       " '40': 27.201682400989885,\n",
       " '50': 0.07922441152390942,\n",
       " '80': 0.6466605200492257,\n",
       " '90': 0.8626467361314002}"
      ]
     },
     "execution_count": 78,
     "metadata": {},
     "output_type": "execute_result"
    }
   ],
   "source": [
    "percentage_dict"
   ]
  },
  {
   "cell_type": "code",
   "execution_count": 83,
   "metadata": {},
   "outputs": [
    {
     "data": {
      "text/html": [
       "\n",
       "            <style>\n",
       "                .geemap-dark {\n",
       "                    --jp-widgets-color: white;\n",
       "                    --jp-widgets-label-color: white;\n",
       "                    --jp-ui-font-color1: white;\n",
       "                    --jp-layout-color2: #454545;\n",
       "                    background-color: #383838;\n",
       "                }\n",
       "\n",
       "                .geemap-dark .jupyter-button {\n",
       "                    --jp-layout-color3: #383838;\n",
       "                }\n",
       "\n",
       "                .geemap-colab {\n",
       "                    background-color: var(--colab-primary-surface-color, white);\n",
       "                }\n",
       "\n",
       "                .geemap-colab .jupyter-button {\n",
       "                    --jp-layout-color3: var(--colab-primary-surface-color, white);\n",
       "                }\n",
       "            </style>\n",
       "            "
      ],
      "text/plain": [
       "<IPython.core.display.HTML object>"
      ]
     },
     "metadata": {},
     "output_type": "display_data"
    }
   ],
   "source": [
    "cgls_shortened_dict = {\n",
    "    20: \"Shrubs\",\n",
    "    30: \"Herbaceous Vegetation\",\n",
    "    40: \"Cultivated and Managed Vegetation/Agriculture\",\n",
    "    50: \"Urban/Built Up\",\n",
    "    60: \"Bare/Sparse Vegetation\",\n",
    "    80: \"Permanent Water Bodies\",\n",
    "    90: \"Herbaceous Wetland\",\n",
    "    111: \"Closed Forest, Evergreen Needle Leaf\",\n",
    "    112: \"Closed Forest, Evergreen Broad Leaf\",\n",
    "    113: \"Closed Forest, Deciduous Needle Leaf\",\n",
    "    114: \"Closed Forest, Deciduous Broad Leaf\",\n",
    "    115: \"Closed Forest, Mixed\",\n",
    "    116: \"Closed Forest, Other\",\n",
    "    121: \"Open Forest, Evergreen Needle Leaf\",\n",
    "    122: \"Open Forest, Evergreen Broad Leaf\",\n",
    "    123: \"Open Forest, Deciduous Needle Leaf\",\n",
    "    124: \"Open Forest, Deciduous Broad Leaf\",\n",
    "    125: \"Open Forest, Mixed\",\n",
    "    126: \"Open Forest, Other\",\n",
    "}\n"
   ]
  },
  {
   "cell_type": "code",
   "execution_count": 89,
   "metadata": {},
   "outputs": [
    {
     "data": {
      "text/html": [
       "\n",
       "            <style>\n",
       "                .geemap-dark {\n",
       "                    --jp-widgets-color: white;\n",
       "                    --jp-widgets-label-color: white;\n",
       "                    --jp-ui-font-color1: white;\n",
       "                    --jp-layout-color2: #454545;\n",
       "                    background-color: #383838;\n",
       "                }\n",
       "\n",
       "                .geemap-dark .jupyter-button {\n",
       "                    --jp-layout-color3: #383838;\n",
       "                }\n",
       "\n",
       "                .geemap-colab {\n",
       "                    background-color: var(--colab-primary-surface-color, white);\n",
       "                }\n",
       "\n",
       "                .geemap-colab .jupyter-button {\n",
       "                    --jp-layout-color3: var(--colab-primary-surface-color, white);\n",
       "                }\n",
       "            </style>\n",
       "            "
      ],
      "text/plain": [
       "<IPython.core.display.HTML object>"
      ]
     },
     "metadata": {},
     "output_type": "display_data"
    },
    {
     "data": {
      "text/html": [
       "<div>\n",
       "<style scoped>\n",
       "    .dataframe tbody tr th:only-of-type {\n",
       "        vertical-align: middle;\n",
       "    }\n",
       "\n",
       "    .dataframe tbody tr th {\n",
       "        vertical-align: top;\n",
       "    }\n",
       "\n",
       "    .dataframe thead th {\n",
       "        text-align: right;\n",
       "    }\n",
       "</style>\n",
       "<table border=\"1\" class=\"dataframe\">\n",
       "  <thead>\n",
       "    <tr style=\"text-align: right;\">\n",
       "      <th></th>\n",
       "      <th>land_value</th>\n",
       "      <th>percentage</th>\n",
       "    </tr>\n",
       "  </thead>\n",
       "  <tbody>\n",
       "    <tr>\n",
       "      <th>0</th>\n",
       "      <td>112</td>\n",
       "      <td>60.379851</td>\n",
       "    </tr>\n",
       "    <tr>\n",
       "      <th>1</th>\n",
       "      <td>116</td>\n",
       "      <td>0.600448</td>\n",
       "    </tr>\n",
       "    <tr>\n",
       "      <th>2</th>\n",
       "      <td>122</td>\n",
       "      <td>1.649903</td>\n",
       "    </tr>\n",
       "    <tr>\n",
       "      <th>3</th>\n",
       "      <td>126</td>\n",
       "      <td>7.144464</td>\n",
       "    </tr>\n",
       "    <tr>\n",
       "      <th>4</th>\n",
       "      <td>20</td>\n",
       "      <td>0.362597</td>\n",
       "    </tr>\n",
       "    <tr>\n",
       "      <th>5</th>\n",
       "      <td>30</td>\n",
       "      <td>1.072522</td>\n",
       "    </tr>\n",
       "    <tr>\n",
       "      <th>6</th>\n",
       "      <td>40</td>\n",
       "      <td>27.201682</td>\n",
       "    </tr>\n",
       "    <tr>\n",
       "      <th>7</th>\n",
       "      <td>50</td>\n",
       "      <td>0.079224</td>\n",
       "    </tr>\n",
       "    <tr>\n",
       "      <th>8</th>\n",
       "      <td>80</td>\n",
       "      <td>0.646661</td>\n",
       "    </tr>\n",
       "    <tr>\n",
       "      <th>9</th>\n",
       "      <td>90</td>\n",
       "      <td>0.862647</td>\n",
       "    </tr>\n",
       "  </tbody>\n",
       "</table>\n",
       "</div>"
      ],
      "text/plain": [
       "  land_value  percentage\n",
       "0        112   60.379851\n",
       "1        116    0.600448\n",
       "2        122    1.649903\n",
       "3        126    7.144464\n",
       "4         20    0.362597\n",
       "5         30    1.072522\n",
       "6         40   27.201682\n",
       "7         50    0.079224\n",
       "8         80    0.646661\n",
       "9         90    0.862647"
      ]
     },
     "execution_count": 89,
     "metadata": {},
     "output_type": "execute_result"
    }
   ],
   "source": [
    "import pandas as pd\n",
    "\n",
    "land_cover_df = pd.DataFrame.from_dict(percentage_dict, orient=\"index\").reset_index()\n",
    "land_cover_df.columns = [\"land_value\", \"percentage\"]\n",
    "land_cover_df"
   ]
  },
  {
   "cell_type": "code",
   "execution_count": 92,
   "metadata": {},
   "outputs": [
    {
     "data": {
      "text/html": [
       "\n",
       "            <style>\n",
       "                .geemap-dark {\n",
       "                    --jp-widgets-color: white;\n",
       "                    --jp-widgets-label-color: white;\n",
       "                    --jp-ui-font-color1: white;\n",
       "                    --jp-layout-color2: #454545;\n",
       "                    background-color: #383838;\n",
       "                }\n",
       "\n",
       "                .geemap-dark .jupyter-button {\n",
       "                    --jp-layout-color3: #383838;\n",
       "                }\n",
       "\n",
       "                .geemap-colab {\n",
       "                    background-color: var(--colab-primary-surface-color, white);\n",
       "                }\n",
       "\n",
       "                .geemap-colab .jupyter-button {\n",
       "                    --jp-layout-color3: var(--colab-primary-surface-color, white);\n",
       "                }\n",
       "            </style>\n",
       "            "
      ],
      "text/plain": [
       "<IPython.core.display.HTML object>"
      ]
     },
     "metadata": {},
     "output_type": "display_data"
    }
   ],
   "source": [
    "land_cover_df[\"land_cover\"] = land_cover_df[\"land_value\"].apply(\n",
    "    lambda x: cgls_shortened_dict.get(int(x), \"Unknown\")\n",
    ")"
   ]
  },
  {
   "cell_type": "code",
   "execution_count": 100,
   "metadata": {},
   "outputs": [
    {
     "data": {
      "text/html": [
       "\n",
       "            <style>\n",
       "                .geemap-dark {\n",
       "                    --jp-widgets-color: white;\n",
       "                    --jp-widgets-label-color: white;\n",
       "                    --jp-ui-font-color1: white;\n",
       "                    --jp-layout-color2: #454545;\n",
       "                    background-color: #383838;\n",
       "                }\n",
       "\n",
       "                .geemap-dark .jupyter-button {\n",
       "                    --jp-layout-color3: #383838;\n",
       "                }\n",
       "\n",
       "                .geemap-colab {\n",
       "                    background-color: var(--colab-primary-surface-color, white);\n",
       "                }\n",
       "\n",
       "                .geemap-colab .jupyter-button {\n",
       "                    --jp-layout-color3: var(--colab-primary-surface-color, white);\n",
       "                }\n",
       "            </style>\n",
       "            "
      ],
      "text/plain": [
       "<IPython.core.display.HTML object>"
      ]
     },
     "metadata": {},
     "output_type": "display_data"
    },
    {
     "name": "stdout",
     "output_type": "stream",
     "text": [
      "|    |   land_value |   percentage | land_cover                                    |\n",
      "|---:|-------------:|-------------:|:----------------------------------------------|\n",
      "|  0 |          112 |        60.38 | Closed Forest, Evergreen Broad Leaf           |\n",
      "|  6 |           40 |        27.2  | Cultivated and Managed Vegetation/Agriculture |\n",
      "|  3 |          126 |         7.14 | Open Forest, Other                            |\n",
      "|  2 |          122 |         1.65 | Open Forest, Evergreen Broad Leaf             |\n",
      "|  5 |           30 |         1.07 | Herbaceous Vegetation                         |\n",
      "|  9 |           90 |         0.86 | Herbaceous Wetland                            |\n",
      "|  8 |           80 |         0.65 | Permanent Water Bodies                        |\n",
      "|  1 |          116 |         0.6  | Closed Forest, Other                          |\n",
      "|  4 |           20 |         0.36 | Shrubs                                        |\n",
      "|  7 |           50 |         0.08 | Urban/Built Up                                |\n"
     ]
    }
   ],
   "source": [
    "land_cover_df.sort_values(\"percentage\", ascending=False, inplace=True)\n",
    "land_cover_df[\"percentage\"] = land_cover_df[\"percentage\"].apply(lambda x: round(x, 2))\n",
    "print(land_cover_df.to_markdown())"
   ]
  },
  {
   "cell_type": "code",
   "execution_count": 71,
   "metadata": {},
   "outputs": [
    {
     "data": {
      "text/html": [
       "\n",
       "            <style>\n",
       "                .geemap-dark {\n",
       "                    --jp-widgets-color: white;\n",
       "                    --jp-widgets-label-color: white;\n",
       "                    --jp-ui-font-color1: white;\n",
       "                    --jp-layout-color2: #454545;\n",
       "                    background-color: #383838;\n",
       "                }\n",
       "\n",
       "                .geemap-dark .jupyter-button {\n",
       "                    --jp-layout-color3: #383838;\n",
       "                }\n",
       "\n",
       "                .geemap-colab {\n",
       "                    background-color: var(--colab-primary-surface-color, white);\n",
       "                }\n",
       "\n",
       "                .geemap-colab .jupyter-button {\n",
       "                    --jp-layout-color3: var(--colab-primary-surface-color, white);\n",
       "                }\n",
       "            </style>\n",
       "            "
      ],
      "text/plain": [
       "<IPython.core.display.HTML object>"
      ]
     },
     "metadata": {},
     "output_type": "display_data"
    }
   ],
   "source": [
    "legend_dict = {\n",
    "    \"0 Unknown\": \"282828\",\n",
    "    \"1 Evergreen needle leaf\": \"666000\",\n",
    "    \"2 Evergreen broad leaf\": \"009900\",\n",
    "    \"3 Deciduous needle leaf\": \"70663e\",\n",
    "    \"4 Deciduous broad leaf\": \"a0dc00\",\n",
    "    \"5 Mix of forest types\": \"929900\",\n",
    "}"
   ]
  },
  {
   "cell_type": "code",
   "execution_count": 72,
   "metadata": {},
   "outputs": [
    {
     "data": {
      "text/html": [
       "\n",
       "            <style>\n",
       "                .geemap-dark {\n",
       "                    --jp-widgets-color: white;\n",
       "                    --jp-widgets-label-color: white;\n",
       "                    --jp-ui-font-color1: white;\n",
       "                    --jp-layout-color2: #454545;\n",
       "                    background-color: #383838;\n",
       "                }\n",
       "\n",
       "                .geemap-dark .jupyter-button {\n",
       "                    --jp-layout-color3: #383838;\n",
       "                }\n",
       "\n",
       "                .geemap-colab {\n",
       "                    background-color: var(--colab-primary-surface-color, white);\n",
       "                }\n",
       "\n",
       "                .geemap-colab .jupyter-button {\n",
       "                    --jp-layout-color3: var(--colab-primary-surface-color, white);\n",
       "                }\n",
       "            </style>\n",
       "            "
      ],
      "text/plain": [
       "<IPython.core.display.HTML object>"
      ]
     },
     "metadata": {},
     "output_type": "display_data"
    },
    {
     "data": {
      "application/vnd.jupyter.widget-view+json": {
       "model_id": "7038f0cd420d48cc91ad3140b4dd7705",
       "version_major": 2,
       "version_minor": 0
      },
      "text/plain": [
       "Map(center=[0, 0], controls=(WidgetControl(options=['position', 'transparent_bg'], widget=SearchDataGUI(childr…"
      ]
     },
     "execution_count": 72,
     "metadata": {},
     "output_type": "execute_result"
    }
   ],
   "source": [
    "m = geemap.Map()\n",
    "m.centerObject(project_fc)\n",
    "m.addLayer(forest_type_clip, {}, \"Forest Type\")\n",
    "text = \"Made by Ilse Paniagua\"\n",
    "m.add_text(text)\n",
    "m.add_legend(legend_dict=legend_dict, title=\"Forest Types\")\n",
    "m"
   ]
  },
  {
   "cell_type": "code",
   "execution_count": 42,
   "metadata": {},
   "outputs": [
    {
     "data": {
      "text/html": [
       "\n",
       "            <style>\n",
       "                .geemap-dark {\n",
       "                    --jp-widgets-color: white;\n",
       "                    --jp-widgets-label-color: white;\n",
       "                    --jp-ui-font-color1: white;\n",
       "                    --jp-layout-color2: #454545;\n",
       "                    background-color: #383838;\n",
       "                }\n",
       "\n",
       "                .geemap-dark .jupyter-button {\n",
       "                    --jp-layout-color3: #383838;\n",
       "                }\n",
       "\n",
       "                .geemap-colab {\n",
       "                    background-color: var(--colab-primary-surface-color, white);\n",
       "                }\n",
       "\n",
       "                .geemap-colab .jupyter-button {\n",
       "                    --jp-layout-color3: var(--colab-primary-surface-color, white);\n",
       "                }\n",
       "            </style>\n",
       "            "
      ],
      "text/plain": [
       "<IPython.core.display.HTML object>"
      ]
     },
     "metadata": {},
     "output_type": "display_data"
    }
   ],
   "source": [
    "roi = p.user_roi\n",
    "file_name = \"../maps/cgls_mayan_biosphere_classes.png\""
   ]
  },
  {
   "cell_type": "code",
   "execution_count": 47,
   "metadata": {},
   "outputs": [
    {
     "data": {
      "text/html": [
       "\n",
       "            <style>\n",
       "                .geemap-dark {\n",
       "                    --jp-widgets-color: white;\n",
       "                    --jp-widgets-label-color: white;\n",
       "                    --jp-ui-font-color1: white;\n",
       "                    --jp-layout-color2: #454545;\n",
       "                    background-color: #383838;\n",
       "                }\n",
       "\n",
       "                .geemap-dark .jupyter-button {\n",
       "                    --jp-layout-color3: #383838;\n",
       "                }\n",
       "\n",
       "                .geemap-colab {\n",
       "                    background-color: var(--colab-primary-surface-color, white);\n",
       "                }\n",
       "\n",
       "                .geemap-colab .jupyter-button {\n",
       "                    --jp-layout-color3: var(--colab-primary-surface-color, white);\n",
       "                }\n",
       "            </style>\n",
       "            "
      ],
      "text/plain": [
       "<IPython.core.display.HTML object>"
      ]
     },
     "metadata": {},
     "output_type": "display_data"
    }
   ],
   "source": [
    "p.to_image(filename=file_name, monitor=0)\n"
   ]
  },
  {
   "cell_type": "markdown",
   "metadata": {},
   "source": [
    "## ESA"
   ]
  },
  {
   "cell_type": "code",
   "execution_count": 28,
   "metadata": {},
   "outputs": [
    {
     "data": {
      "text/html": [
       "\n",
       "            <style>\n",
       "                .geemap-dark {\n",
       "                    --jp-widgets-color: white;\n",
       "                    --jp-widgets-label-color: white;\n",
       "                    --jp-ui-font-color1: white;\n",
       "                    --jp-layout-color2: #454545;\n",
       "                    background-color: #383838;\n",
       "                }\n",
       "\n",
       "                .geemap-dark .jupyter-button {\n",
       "                    --jp-layout-color3: #383838;\n",
       "                }\n",
       "\n",
       "                .geemap-colab {\n",
       "                    background-color: var(--colab-primary-surface-color, white);\n",
       "                }\n",
       "\n",
       "                .geemap-colab .jupyter-button {\n",
       "                    --jp-layout-color3: var(--colab-primary-surface-color, white);\n",
       "                }\n",
       "            </style>\n",
       "            "
      ],
      "text/plain": [
       "<IPython.core.display.HTML object>"
      ]
     },
     "metadata": {},
     "output_type": "display_data"
    },
    {
     "data": {
      "text/html": [
       "<div><style>:root {\n",
       "  --font-color-primary: var(--jp-content-font-color0, rgba(0, 0, 0, 1));\n",
       "  --font-color-secondary: var(--jp-content-font-color2, rgba(0, 0, 0, 0.6));\n",
       "  --font-color-accent: rgba(123, 31, 162, 1);\n",
       "  --border-color: var(--jp-border-color2, #e0e0e0);\n",
       "  --background-color: var(--jp-layout-color0, white);\n",
       "  --background-color-row-even: var(--jp-layout-color1, white);\n",
       "  --background-color-row-odd: var(--jp-layout-color2, #eeeeee);\n",
       "}\n",
       "\n",
       "html[theme=\"dark\"],\n",
       "body[data-theme=\"dark\"],\n",
       "body.vscode-dark {\n",
       "  --font-color-primary: rgba(255, 255, 255, 1);\n",
       "  --font-color-secondary: rgba(255, 255, 255, 0.6);\n",
       "  --font-color-accent: rgb(173, 132, 190);\n",
       "  --border-color: #2e2e2e;\n",
       "  --background-color: #111111;\n",
       "  --background-color-row-even: #111111;\n",
       "  --background-color-row-odd: #313131;\n",
       "}\n",
       "\n",
       ".ee {\n",
       "  padding: 1em;\n",
       "  line-height: 1.5em;\n",
       "  min-width: 300px;\n",
       "  max-width: 1200px;\n",
       "  overflow-y: scroll;\n",
       "  max-height: 600px;\n",
       "  border: 1px solid var(--border-color);\n",
       "  font-family: monospace;\n",
       "}\n",
       "\n",
       ".ee li {\n",
       "  list-style-type: none;\n",
       "}\n",
       "\n",
       ".ee ul {\n",
       "  padding-left: 1.5em !important;\n",
       "  margin: 0;\n",
       "}\n",
       "\n",
       ".ee > ul {\n",
       "  padding-left: 0 !important;\n",
       "}\n",
       "\n",
       ".ee-open,\n",
       ".ee-shut {\n",
       "  color: var(--font-color-secondary);\n",
       "  cursor: pointer;\n",
       "  margin: 0;\n",
       "}\n",
       "\n",
       ".ee-open:hover,\n",
       ".ee-shut:hover {\n",
       "  color: var(--font-color-primary);\n",
       "}\n",
       "\n",
       ".ee-k {\n",
       "  color: var(--font-color-accent);\n",
       "  margin-right: 6px;\n",
       "}\n",
       "\n",
       ".ee-v {\n",
       "  color: var(--font-color-primary);\n",
       "}\n",
       "\n",
       ".ee-toggle {\n",
       "  display: none;\n",
       "}\n",
       "\n",
       ".ee-shut + ul {\n",
       "  display: none;\n",
       "}\n",
       "\n",
       ".ee-open + ul {\n",
       "  display: block;\n",
       "}\n",
       "\n",
       ".ee-shut::before {\n",
       "  display: inline-block;\n",
       "  content: \"▼\";\n",
       "  margin-right: 6px;\n",
       "  transform: rotate(-90deg);\n",
       "  transition: transform 0.2s;\n",
       "}\n",
       "\n",
       ".ee-open::before {\n",
       "  transform: rotate(0deg);\n",
       "  display: inline-block;\n",
       "  content: \"▼\";\n",
       "  margin-right: 6px;\n",
       "  transition: transform 0.2s;\n",
       "}\n",
       "</style><div class='ee'><ul><li><label class='ee-shut'>Image ESA/WorldCover/v100/2020 (1 band)<input type='checkbox' class='ee-toggle'></label><ul><li><span class='ee-k'>type:</span><span class='ee-v'>Image</span></li><li><span class='ee-k'>id:</span><span class='ee-v'>ESA/WorldCover/v100/2020</span></li><li><span class='ee-k'>version:</span><span class='ee-v'>1685065671563344</span></li><li><label class='ee-shut'>bands: List (1 element)<input type='checkbox' class='ee-toggle'></label><ul><li><label class='ee-shut'>0: \"Map\", unsigned int8, EPSG:4326, 4320000x1728000 px<input type='checkbox' class='ee-toggle'></label><ul><li><span class='ee-k'>id:</span><span class='ee-v'>Map</span></li><li><span class='ee-k'>crs:</span><span class='ee-v'>EPSG:4326</span></li><li><label class='ee-shut'>crs_transform: List (6 elements)<input type='checkbox' class='ee-toggle'></label><ul><li><span class='ee-k'>0:</span><span class='ee-v'>8.333333333333333e-05</span></li><li><span class='ee-k'>1:</span><span class='ee-v'>0</span></li><li><span class='ee-k'>2:</span><span class='ee-v'>-180</span></li><li><span class='ee-k'>3:</span><span class='ee-v'>0</span></li><li><span class='ee-k'>4:</span><span class='ee-v'>-8.333333333333333e-05</span></li><li><span class='ee-k'>5:</span><span class='ee-v'>84</span></li></ul></li><li><label class='ee-shut'>data_type: unsigned int8<input type='checkbox' class='ee-toggle'></label><ul><li><span class='ee-k'>type:</span><span class='ee-v'>PixelType</span></li><li><span class='ee-k'>max:</span><span class='ee-v'>255</span></li><li><span class='ee-k'>min:</span><span class='ee-v'>0</span></li><li><span class='ee-k'>precision:</span><span class='ee-v'>int</span></li></ul></li><li><label class='ee-shut'>dimensions: [4320000, 1728000]<input type='checkbox' class='ee-toggle'></label><ul><li><span class='ee-k'>0:</span><span class='ee-v'>4320000</span></li><li><span class='ee-k'>1:</span><span class='ee-v'>1728000</span></li></ul></li></ul></li></ul></li><li><label class='ee-shut'>properties: Object (8 properties)<input type='checkbox' class='ee-toggle'></label><ul><li><label class='ee-shut'>Map_class_names: List (11 elements)<input type='checkbox' class='ee-toggle'></label><ul><li><span class='ee-k'>0:</span><span class='ee-v'>Tree cover</span></li><li><span class='ee-k'>1:</span><span class='ee-v'>Shrubland</span></li><li><span class='ee-k'>2:</span><span class='ee-v'>Grassland</span></li><li><span class='ee-k'>3:</span><span class='ee-v'>Cropland</span></li><li><span class='ee-k'>4:</span><span class='ee-v'>Built-up</span></li><li><span class='ee-k'>5:</span><span class='ee-v'>Bare / sparse vegetation</span></li><li><span class='ee-k'>6:</span><span class='ee-v'>Snow and ice</span></li><li><span class='ee-k'>7:</span><span class='ee-v'>Permanent water bodies</span></li><li><span class='ee-k'>8:</span><span class='ee-v'>Herbaceous wetland</span></li><li><span class='ee-k'>9:</span><span class='ee-v'>Mangroves</span></li><li><span class='ee-k'>10:</span><span class='ee-v'>Moss and lichen</span></li></ul></li><li><label class='ee-shut'>Map_class_palette: List (11 elements)<input type='checkbox' class='ee-toggle'></label><ul><li><span class='ee-k'>0:</span><span class='ee-v'>006400</span></li><li><span class='ee-k'>1:</span><span class='ee-v'>ffbb22</span></li><li><span class='ee-k'>2:</span><span class='ee-v'>ffff4c</span></li><li><span class='ee-k'>3:</span><span class='ee-v'>f096ff</span></li><li><span class='ee-k'>4:</span><span class='ee-v'>fa0000</span></li><li><span class='ee-k'>5:</span><span class='ee-v'>b4b4b4</span></li><li><span class='ee-k'>6:</span><span class='ee-v'>f0f0f0</span></li><li><span class='ee-k'>7:</span><span class='ee-v'>0064c8</span></li><li><span class='ee-k'>8:</span><span class='ee-v'>0096a0</span></li><li><span class='ee-k'>9:</span><span class='ee-v'>00cf75</span></li><li><span class='ee-k'>10:</span><span class='ee-v'>fae6a0</span></li></ul></li><li><label class='ee-shut'>Map_class_values: [10, 20, 30, 40, 50, 60, 70, 80, 90, 95, 100]<input type='checkbox' class='ee-toggle'></label><ul><li><span class='ee-k'>0:</span><span class='ee-v'>10</span></li><li><span class='ee-k'>1:</span><span class='ee-v'>20</span></li><li><span class='ee-k'>2:</span><span class='ee-v'>30</span></li><li><span class='ee-k'>3:</span><span class='ee-v'>40</span></li><li><span class='ee-k'>4:</span><span class='ee-v'>50</span></li><li><span class='ee-k'>5:</span><span class='ee-v'>60</span></li><li><span class='ee-k'>6:</span><span class='ee-v'>70</span></li><li><span class='ee-k'>7:</span><span class='ee-v'>80</span></li><li><span class='ee-k'>8:</span><span class='ee-v'>90</span></li><li><span class='ee-k'>9:</span><span class='ee-v'>95</span></li><li><span class='ee-k'>10:</span><span class='ee-v'>100</span></li></ul></li><li><span class='ee-k'>system:asset_size:</span><span class='ee-v'>109355097577</span></li><li><label class='ee-shut'>system:footprint: LinearRing (5 vertices)<input type='checkbox' class='ee-toggle'></label><ul><li><span class='ee-k'>type:</span><span class='ee-v'>LinearRing</span></li><li><label class='ee-shut'>coordinates: List (5 elements)<input type='checkbox' class='ee-toggle'></label><ul><li><label class='ee-shut'>0: [-180, -90]<input type='checkbox' class='ee-toggle'></label><ul><li><span class='ee-k'>0:</span><span class='ee-v'>-180</span></li><li><span class='ee-k'>1:</span><span class='ee-v'>-90</span></li></ul></li><li><label class='ee-shut'>1: [180, -90]<input type='checkbox' class='ee-toggle'></label><ul><li><span class='ee-k'>0:</span><span class='ee-v'>180</span></li><li><span class='ee-k'>1:</span><span class='ee-v'>-90</span></li></ul></li><li><label class='ee-shut'>2: [180, 90]<input type='checkbox' class='ee-toggle'></label><ul><li><span class='ee-k'>0:</span><span class='ee-v'>180</span></li><li><span class='ee-k'>1:</span><span class='ee-v'>90</span></li></ul></li><li><label class='ee-shut'>3: [-180, 90]<input type='checkbox' class='ee-toggle'></label><ul><li><span class='ee-k'>0:</span><span class='ee-v'>-180</span></li><li><span class='ee-k'>1:</span><span class='ee-v'>90</span></li></ul></li><li><label class='ee-shut'>4: [-180, -90]<input type='checkbox' class='ee-toggle'></label><ul><li><span class='ee-k'>0:</span><span class='ee-v'>-180</span></li><li><span class='ee-k'>1:</span><span class='ee-v'>-90</span></li></ul></li></ul></li></ul></li><li><span class='ee-k'>system:index:</span><span class='ee-v'>2020</span></li><li><span class='ee-k'>system:time_end:</span><span class='ee-v'>1609459200000</span></li><li><span class='ee-k'>system:time_start:</span><span class='ee-v'>1577836800000</span></li></ul></li></ul></li></ul></div><script>function toggleHeader() {\n",
       "    const parent = this.parentElement;\n",
       "    parent.className = parent.className === \"ee-open\" ? \"ee-shut\" : \"ee-open\";\n",
       "}\n",
       "\n",
       "for (let c of document.getElementsByClassName(\"ee-toggle\")) {\n",
       "    c.onclick = toggleHeader;\n",
       "}</script></div>"
      ],
      "text/plain": [
       "<ee.image.Image at 0x172b9b710>"
      ]
     },
     "execution_count": 28,
     "metadata": {},
     "output_type": "execute_result"
    }
   ],
   "source": [
    "esa_collection = ee.ImageCollection(\"ESA/WorldCover/v100\").first()\n",
    "esa_collection\n"
   ]
  },
  {
   "cell_type": "code",
   "execution_count": null,
   "metadata": {},
   "outputs": [],
   "source": [
    "esa_collection.clip(project_fc)"
   ]
  },
  {
   "cell_type": "code",
   "execution_count": 27,
   "metadata": {},
   "outputs": [
    {
     "data": {
      "text/html": [
       "\n",
       "            <style>\n",
       "                .geemap-dark {\n",
       "                    --jp-widgets-color: white;\n",
       "                    --jp-widgets-label-color: white;\n",
       "                    --jp-ui-font-color1: white;\n",
       "                    --jp-layout-color2: #454545;\n",
       "                    background-color: #383838;\n",
       "                }\n",
       "\n",
       "                .geemap-dark .jupyter-button {\n",
       "                    --jp-layout-color3: #383838;\n",
       "                }\n",
       "\n",
       "                .geemap-colab {\n",
       "                    background-color: var(--colab-primary-surface-color, white);\n",
       "                }\n",
       "\n",
       "                .geemap-colab .jupyter-button {\n",
       "                    --jp-layout-color3: var(--colab-primary-surface-color, white);\n",
       "                }\n",
       "            </style>\n",
       "            "
      ],
      "text/plain": [
       "<IPython.core.display.HTML object>"
      ]
     },
     "metadata": {},
     "output_type": "display_data"
    },
    {
     "data": {
      "application/vnd.jupyter.widget-view+json": {
       "model_id": "69af2ba994784403b587260eb4c9ff24",
       "version_major": 2,
       "version_minor": 0
      },
      "text/plain": [
       "Map(center=[0, 0], controls=(WidgetControl(options=['position', 'transparent_bg'], widget=SearchDataGUI(childr…"
      ]
     },
     "execution_count": 27,
     "metadata": {},
     "output_type": "execute_result"
    }
   ],
   "source": [
    "visualization = {\n",
    "    \"bands\": [\"Map\"],\n",
    "}\n",
    "\n",
    "m = geemap.Map()\n",
    "m.center_object(dataset)\n",
    "m.add_layer(dataset, visualization, \"Landcover\")\n",
    "m"
   ]
  }
 ],
 "metadata": {
  "kernelspec": {
   "display_name": ".venv",
   "language": "python",
   "name": "python3"
  },
  "language_info": {
   "codemirror_mode": {
    "name": "ipython",
    "version": 3
   },
   "file_extension": ".py",
   "mimetype": "text/x-python",
   "name": "python",
   "nbconvert_exporter": "python",
   "pygments_lexer": "ipython3",
   "version": "3.12.7"
  }
 },
 "nbformat": 4,
 "nbformat_minor": 2
}
