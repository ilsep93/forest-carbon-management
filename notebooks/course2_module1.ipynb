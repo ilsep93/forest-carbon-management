{
 "cells": [
  {
   "cell_type": "markdown",
   "metadata": {},
   "source": [
    "1. Which geographic area of interest (AOI) are you focussing on?  This can be the same AOI you selected for written assignment 1, or you can focus on a new AOI. \n",
    "\n",
    "2. Describe your AOI in terms of it’s landscape characteristics: what are the dominant LULC categories?  Strictly speaking: do these qualify as purely land cover, land use, or combinations of land cover and land use?  \n",
    "\n",
    "3. Does the forest in your AOI have what you believe to be spectrally and ecologically distinct sub-types?  If so, what are they? And what spectral and / or ecological characteristics allow differentiation? \n",
    "\n",
    "4. How accessible is information representing LULC for your area of interest?  What about data relating to socio-cultural and socio-economic attributes, governance, and land-use rights?  And biodiversity?  \n",
    "\n",
    "5. Who are the primary stakeholders associated with the forests in your AOI? \n",
    "\n",
    "6. How would you describe the biodiversity associated with the forests in your AOI? \n",
    "\n",
    "7. Does carbon stock data exist specifically for the forests in your AOI (i.e., based on the results of a relevant forest inventory)?  If yes, did this inventory include forest stratification?  Which inventory methodology was used? And which carbon pools were assessed?  What about non-forest carbon stock values (e.g., deforested areas)? \n",
    "\n",
    "8. Are there allometric equations that were developed based on the forests in your AOI?  If yes, who developed them? If not, what are the closest/most appropriate allometric equations for you AOI? (find a regional, national, or international source)\n",
    "\n",
    "9. Is there growth and yield data available that’s applicable to the forests in your AOI?  If yes, what is the source? "
   ]
  },
  {
   "cell_type": "code",
   "execution_count": 1,
   "metadata": {},
   "outputs": [],
   "source": [
    "import ee\n",
    "import geopandas as gpd"
   ]
  },
  {
   "cell_type": "code",
   "execution_count": 2,
   "metadata": {},
   "outputs": [],
   "source": [
    "ee.Authenticate()\n",
    "ee.Initialize()"
   ]
  },
  {
   "cell_type": "code",
   "execution_count": 3,
   "metadata": {},
   "outputs": [],
   "source": [
    "land_cover_collection = ee.ImageCollection(\n",
    "    \"COPERNICUS/Landcover/100m/Proba-V-C3/Global\"\n",
    ")"
   ]
  },
  {
   "cell_type": "code",
   "execution_count": 5,
   "metadata": {},
   "outputs": [],
   "source": [
    "# In case of pyproj issues, specify proj data directory manually\n",
    "# pyproj.datadir.set_data_dir('/opt/homebrew/bin/proj/')"
   ]
  },
  {
   "cell_type": "code",
   "execution_count": 10,
   "metadata": {},
   "outputs": [],
   "source": [
    "project_gdf = gpd.read_file(\n",
    "    \"../geometries/WDPA_WDOECM_Nov2024_Public_26621_shp/WDPA_WDOECM_Nov2024_Public_26621_shp_0/WDPA_WDOECM_Nov2024_Public_26621_shp-polygons.shp\"\n",
    ")\n",
    "project_fc = ee.FeatureCollection(project_gdf.__geo_interface__)"
   ]
  },
  {
   "cell_type": "code",
   "execution_count": 13,
   "metadata": {},
   "outputs": [],
   "source": [
    "image = land_cover_collection.filterBounds(project_fc).filterDate(\"2019-12-31\").median()"
   ]
  },
  {
   "cell_type": "code",
   "execution_count": null,
   "metadata": {},
   "outputs": [],
   "source": []
  }
 ],
 "metadata": {
  "kernelspec": {
   "display_name": ".venv",
   "language": "python",
   "name": "python3"
  },
  "language_info": {
   "codemirror_mode": {
    "name": "ipython",
    "version": 3
   },
   "file_extension": ".py",
   "mimetype": "text/x-python",
   "name": "python",
   "nbconvert_exporter": "python",
   "pygments_lexer": "ipython3",
   "version": "3.12.7"
  }
 },
 "nbformat": 4,
 "nbformat_minor": 2
}
